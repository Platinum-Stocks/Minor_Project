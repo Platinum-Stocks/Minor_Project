{
 "cells": [
  {
   "cell_type": "code",
   "execution_count": 2,
   "id": "ac000c01",
   "metadata": {},
   "outputs": [],
   "source": [
    "import tweepy"
   ]
  },
  {
   "cell_type": "code",
   "execution_count": 3,
   "id": "db41d892",
   "metadata": {},
   "outputs": [],
   "source": [
    "import configparser"
   ]
  },
  {
   "cell_type": "code",
   "execution_count": 4,
   "id": "ba4c98cd",
   "metadata": {},
   "outputs": [],
   "source": [
    "#read all credentials"
   ]
  },
  {
   "cell_type": "code",
   "execution_count": 5,
   "id": "8ce1199a",
   "metadata": {},
   "outputs": [
    {
     "data": {
      "text/plain": [
       "['config.ini']"
      ]
     },
     "execution_count": 5,
     "metadata": {},
     "output_type": "execute_result"
    }
   ],
   "source": [
    "config = configparser.ConfigParser()\n",
    "config.read('config.ini')"
   ]
  },
  {
   "cell_type": "code",
   "execution_count": 6,
   "id": "681de947",
   "metadata": {},
   "outputs": [],
   "source": [
    "api_key= config['twitter']['api_key']\n",
    "api_key_secret= config['twitter']['api_key_secret']\n"
   ]
  },
  {
   "cell_type": "code",
   "execution_count": 7,
   "id": "89a92345",
   "metadata": {},
   "outputs": [],
   "source": [
    "access_token= config['twitter']['access_token']\n",
    "access_token_secret=config['twitter']['access_token_secret']"
   ]
  },
  {
   "cell_type": "code",
   "execution_count": 9,
   "id": "276d29f8",
   "metadata": {},
   "outputs": [],
   "source": [
    "#authentication"
   ]
  },
  {
   "cell_type": "code",
   "execution_count": 10,
   "id": "18a96364",
   "metadata": {},
   "outputs": [],
   "source": [
    "auth = tweepy.OAuth1UserHandler(api_key, api_key_secret)\n",
    "auth.set_access_token(access_token, access_token_secret)\n"
   ]
  },
  {
   "cell_type": "code",
   "execution_count": 11,
   "id": "9a66b94d",
   "metadata": {},
   "outputs": [],
   "source": [
    "api = tweepy.API(auth)"
   ]
  },
  {
   "cell_type": "code",
   "execution_count": 37,
   "id": "f241569f",
   "metadata": {},
   "outputs": [],
   "source": [
    "import pandas as pd"
   ]
  },
  {
   "cell_type": "code",
   "execution_count": 68,
   "id": "6160ee93",
   "metadata": {},
   "outputs": [],
   "source": [
    "query = \"Reliance\"\n",
    "client = tweepy.Client(bearer_token='AAAAAAAAAAAAAAAAAAAAADspYwEAAAAAXTXUxOKW3JveQfKyFiFjK9H6p8w%3DWP6jvOIyOgrPvnivehDI5x5plcGS44OHyt1pK4XJFI9pa49rVn')\n",
    "file_name = 'tweets.txt'\n"
   ]
  },
  {
   "cell_type": "code",
   "execution_count": 69,
   "id": "b5385d59",
   "metadata": {},
   "outputs": [],
   "source": [
    "# with open(file_name, 'a+') as filehandle:\n",
    "#     for tweet in tweepy.Paginator(client.search_recent_tweets, query=query,\n",
    "#                                   tweet_fields=['context_annotations'], max_results=100).flatten(\n",
    "#             limit=1000):\n",
    "#         filehandle.write('%s\\n' % tweet.id)\n"
   ]
  },
  {
   "cell_type": "code",
   "execution_count": 80,
   "id": "7344e32a",
   "metadata": {},
   "outputs": [],
   "source": [
    "di = dict()\n",
    "for tweet in tweepy.Paginator(client.search_recent_tweets, \"Reliance\",\n",
    "                              max_results=100).flatten(limit=10000):\n",
    "    di[tweet.id]=tweet.text\n"
   ]
  },
  {
   "cell_type": "code",
   "execution_count": 81,
   "id": "5cf95cf1",
   "metadata": {},
   "outputs": [],
   "source": [
    "new=pd.DataFrame(di.items(),columns=['id','text'])"
   ]
  },
  {
   "cell_type": "code",
   "execution_count": 82,
   "id": "7c252b08",
   "metadata": {},
   "outputs": [],
   "source": [
    "df_clean = pd.DataFrame()\n",
    "import re\n",
    "for x in new['text']:\n",
    "    y=' '.join(re.sub(\"(@[A-Za-z0-9]+)|([^0-9A-Za-z \\t])|(\\w+:\\/\\/\\S+)\",\" \",x).split())\n",
    "    d = pd.DataFrame([y])\n",
    "    df_clean= df_clean.append(d,ignore_index=True)"
   ]
  },
  {
   "cell_type": "code",
   "execution_count": 83,
   "id": "1a93df3a",
   "metadata": {},
   "outputs": [],
   "source": [
    "df_clean = df_clean.drop_duplicates()\n",
    "df_clean.to_csv('Reliance_dataset.csv', index=False)"
   ]
  },
  {
   "cell_type": "code",
   "execution_count": 84,
   "id": "c7f4153f",
   "metadata": {},
   "outputs": [
    {
     "data": {
      "text/plain": [
       "(5621, 1)"
      ]
     },
     "execution_count": 84,
     "metadata": {},
     "output_type": "execute_result"
    }
   ],
   "source": [
    "df_clean.shape"
   ]
  },
  {
   "cell_type": "code",
   "execution_count": null,
   "id": "5cecba03",
   "metadata": {},
   "outputs": [],
   "source": []
  }
 ],
 "metadata": {
  "kernelspec": {
   "display_name": "Python 3 (ipykernel)",
   "language": "python",
   "name": "python3"
  },
  "language_info": {
   "codemirror_mode": {
    "name": "ipython",
    "version": 3
   },
   "file_extension": ".py",
   "mimetype": "text/x-python",
   "name": "python",
   "nbconvert_exporter": "python",
   "pygments_lexer": "ipython3",
   "version": "3.9.7"
  }
 },
 "nbformat": 4,
 "nbformat_minor": 5
}
