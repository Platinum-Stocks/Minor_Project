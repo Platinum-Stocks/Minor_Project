{
  "cells": [
    {
      "cell_type": "code",
      "execution_count": 1,
      "metadata": {
        "colab": {
          "base_uri": "https://localhost:8080/",
          "height": 363
        },
        "id": "jZzxytIAWrHK",
        "outputId": "47706507-f187-47bc-b460-2f2cdaa681c4",
        "scrolled": true
      },
      "outputs": [
        {
          "data": {
            "text/html": [
              "<div>\n",
              "<style scoped>\n",
              "    .dataframe tbody tr th:only-of-type {\n",
              "        vertical-align: middle;\n",
              "    }\n",
              "\n",
              "    .dataframe tbody tr th {\n",
              "        vertical-align: top;\n",
              "    }\n",
              "\n",
              "    .dataframe thead th {\n",
              "        text-align: right;\n",
              "    }\n",
              "</style>\n",
              "<table border=\"1\" class=\"dataframe\">\n",
              "  <thead>\n",
              "    <tr style=\"text-align: right;\">\n",
              "      <th></th>\n",
              "      <th>id</th>\n",
              "      <th>ticker</th>\n",
              "      <th>title</th>\n",
              "      <th>category</th>\n",
              "      <th>content</th>\n",
              "      <th>release_date</th>\n",
              "      <th>provider</th>\n",
              "      <th>url</th>\n",
              "      <th>article_id</th>\n",
              "    </tr>\n",
              "  </thead>\n",
              "  <tbody>\n",
              "    <tr>\n",
              "      <th>221498</th>\n",
              "      <td>443014</td>\n",
              "      <td>T</td>\n",
              "      <td>TECO Energy  No Big Change Expected</td>\n",
              "      <td>opinion</td>\n",
              "      <td>In this article  we introduce a tentative pric...</td>\n",
              "      <td>2012-11-22</td>\n",
              "      <td>Ivan Kitov</td>\n",
              "      <td>https://www.investing.com/analysis/teco-energy...</td>\n",
              "      <td>144622</td>\n",
              "    </tr>\n",
              "    <tr>\n",
              "      <th>221499</th>\n",
              "      <td>443015</td>\n",
              "      <td>T</td>\n",
              "      <td>U S  Stocks Finish Higher On Positive Employme...</td>\n",
              "      <td>opinion</td>\n",
              "      <td>U S  stocks closed with modest gains after hov...</td>\n",
              "      <td>2012-12-06</td>\n",
              "      <td>Midnight Trader</td>\n",
              "      <td>https://www.investing.com/analysis/u.s.-stocks...</td>\n",
              "      <td>146509</td>\n",
              "    </tr>\n",
              "    <tr>\n",
              "      <th>221500</th>\n",
              "      <td>443016</td>\n",
              "      <td>T</td>\n",
              "      <td>The Rare Earth Sector Needs These Three Things...</td>\n",
              "      <td>opinion</td>\n",
              "      <td>For too long  the rare earth space has operate...</td>\n",
              "      <td>2012-12-19</td>\n",
              "      <td>The Gold Report</td>\n",
              "      <td>https://www.investing.com/analysis/the-rare-ea...</td>\n",
              "      <td>148264</td>\n",
              "    </tr>\n",
              "    <tr>\n",
              "      <th>221501</th>\n",
              "      <td>443017</td>\n",
              "      <td>T</td>\n",
              "      <td>Autonation s Share May Fall In Q4</td>\n",
              "      <td>opinion</td>\n",
              "      <td>Here we revisit our price model for AutoNation...</td>\n",
              "      <td>2012-11-13</td>\n",
              "      <td>Ivan Kitov</td>\n",
              "      <td>https://www.investing.com/analysis/autonation'...</td>\n",
              "      <td>143414</td>\n",
              "    </tr>\n",
              "    <tr>\n",
              "      <th>221502</th>\n",
              "      <td>443018</td>\n",
              "      <td>T</td>\n",
              "      <td>India s Gold Demand Rises While China Cools</td>\n",
              "      <td>opinion</td>\n",
              "      <td>Gold demand overall is high as Market sentimen...</td>\n",
              "      <td>2012-11-15</td>\n",
              "      <td>Commodity Trade Mantra</td>\n",
              "      <td>https://www.investing.com/analysis/india’s-gol...</td>\n",
              "      <td>143727</td>\n",
              "    </tr>\n",
              "    <tr>\n",
              "      <th>221503</th>\n",
              "      <td>443019</td>\n",
              "      <td>T</td>\n",
              "      <td>Pitney Bowes  Share Price May Continue Its Lon...</td>\n",
              "      <td>opinion</td>\n",
              "      <td>This time  we would like to revisit our determ...</td>\n",
              "      <td>2012-11-18</td>\n",
              "      <td>Ivan Kitov</td>\n",
              "      <td>https://www.investing.com/analysis/pitney-bowe...</td>\n",
              "      <td>144038</td>\n",
              "    </tr>\n",
              "    <tr>\n",
              "      <th>221504</th>\n",
              "      <td>443020</td>\n",
              "      <td>T</td>\n",
              "      <td>Spain  33  Unemployed In 2013</td>\n",
              "      <td>opinion</td>\n",
              "      <td>A year ago   using the LSQ technique as applie...</td>\n",
              "      <td>2012-10-14</td>\n",
              "      <td>Ivan Kitov</td>\n",
              "      <td>https://www.investing.com/analysis/spain:-33-u...</td>\n",
              "      <td>139702</td>\n",
              "    </tr>\n",
              "    <tr>\n",
              "      <th>221505</th>\n",
              "      <td>443021</td>\n",
              "      <td>T</td>\n",
              "      <td>S P 500 Returns Imply Real GDP Growth Of 4  In...</td>\n",
              "      <td>opinion</td>\n",
              "      <td>We have been following the link between the S ...</td>\n",
              "      <td>2012-10-14</td>\n",
              "      <td>Ivan Kitov</td>\n",
              "      <td>https://www.investing.com/analysis/s-p-500-ret...</td>\n",
              "      <td>139747</td>\n",
              "    </tr>\n",
              "    <tr>\n",
              "      <th>221506</th>\n",
              "      <td>443022</td>\n",
              "      <td>T</td>\n",
              "      <td>A Critical Metals Mixed Bag  Chris Ecclestone</td>\n",
              "      <td>opinion</td>\n",
              "      <td>A flood of companies scrambled to capitalize o...</td>\n",
              "      <td>2012-10-31</td>\n",
              "      <td>The Gold Report</td>\n",
              "      <td>https://www.investing.com/analysis/a-critical-...</td>\n",
              "      <td>141819</td>\n",
              "    </tr>\n",
              "    <tr>\n",
              "      <th>221507</th>\n",
              "      <td>443023</td>\n",
              "      <td>T</td>\n",
              "      <td>Weighing The Week Ahead  Time For A Confidence...</td>\n",
              "      <td>opinion</td>\n",
              "      <td>Everyone agrees that the economic recovery has...</td>\n",
              "      <td>2012-09-24</td>\n",
              "      <td>Jeff Miller</td>\n",
              "      <td>https://www.investing.com/analysis/weighing-th...</td>\n",
              "      <td>137387</td>\n",
              "    </tr>\n",
              "    <tr>\n",
              "      <th>221508</th>\n",
              "      <td>443024</td>\n",
              "      <td>T</td>\n",
              "      <td>Crude And Steel Still In Sync</td>\n",
              "      <td>opinion</td>\n",
              "      <td>We have been reporting on the trade off betwee...</td>\n",
              "      <td>2012-10-04</td>\n",
              "      <td>Ivan Kitov</td>\n",
              "      <td>https://www.investing.com/analysis/crude-and-s...</td>\n",
              "      <td>138733</td>\n",
              "    </tr>\n",
              "    <tr>\n",
              "      <th>221509</th>\n",
              "      <td>443025</td>\n",
              "      <td>T</td>\n",
              "      <td>Forget AT T  This Is The Telecom Stock You Sho...</td>\n",
              "      <td>opinion</td>\n",
              "      <td>It s the largest cell phone provider in the wo...</td>\n",
              "      <td>2012-05-30</td>\n",
              "      <td>StreetAuthority</td>\n",
              "      <td>https://www.investing.com/analysis/forget-at-t...</td>\n",
              "      <td>124829</td>\n",
              "    </tr>\n",
              "    <tr>\n",
              "      <th>221510</th>\n",
              "      <td>443026</td>\n",
              "      <td>T</td>\n",
              "      <td>Wall Street Exposed   Part 3   How Dividends C...</td>\n",
              "      <td>opinion</td>\n",
              "      <td>Before we dicuss how the mechanism of dividend...</td>\n",
              "      <td>2012-07-16</td>\n",
              "      <td>Portfolio Cafe</td>\n",
              "      <td>https://www.investing.com/analysis/wall-street...</td>\n",
              "      <td>129651</td>\n",
              "    </tr>\n",
              "    <tr>\n",
              "      <th>221511</th>\n",
              "      <td>443027</td>\n",
              "      <td>T</td>\n",
              "      <td>Weighing The Week Ahead  It s All About Jobs</td>\n",
              "      <td>opinion</td>\n",
              "      <td>From start to finish  the coming week will hav...</td>\n",
              "      <td>2012-09-02</td>\n",
              "      <td>Jeff Miller</td>\n",
              "      <td>https://www.investing.com/analysis/weighing-th...</td>\n",
              "      <td>134926</td>\n",
              "    </tr>\n",
              "    <tr>\n",
              "      <th>221512</th>\n",
              "      <td>443028</td>\n",
              "      <td>T</td>\n",
              "      <td>Leap Wireless  LEAP    JPM Note and AT T   T M...</td>\n",
              "      <td>opinion</td>\n",
              "      <td>Leap Wireless International  Inc   Leap  is a ...</td>\n",
              "      <td>2011-12-31</td>\n",
              "      <td>Ophir Gottlieb</td>\n",
              "      <td>https://www.investing.com/analysis/leap-wirele...</td>\n",
              "      <td>110079</td>\n",
              "    </tr>\n",
              "  </tbody>\n",
              "</table>\n",
              "</div>"
            ],
            "text/plain": [
              "            id ticker                                              title  \\\n",
              "221498  443014      T               TECO Energy  No Big Change Expected    \n",
              "221499  443015      T  U S  Stocks Finish Higher On Positive Employme...   \n",
              "221500  443016      T  The Rare Earth Sector Needs These Three Things...   \n",
              "221501  443017      T                 Autonation s Share May Fall In Q4    \n",
              "221502  443018      T       India s Gold Demand Rises While China Cools    \n",
              "221503  443019      T  Pitney Bowes  Share Price May Continue Its Lon...   \n",
              "221504  443020      T                    Spain  33  Unemployed In 2013     \n",
              "221505  443021      T  S P 500 Returns Imply Real GDP Growth Of 4  In...   \n",
              "221506  443022      T      A Critical Metals Mixed Bag  Chris Ecclestone   \n",
              "221507  443023      T  Weighing The Week Ahead  Time For A Confidence...   \n",
              "221508  443024      T                     Crude And Steel Still In Sync    \n",
              "221509  443025      T  Forget AT T  This Is The Telecom Stock You Sho...   \n",
              "221510  443026      T  Wall Street Exposed   Part 3   How Dividends C...   \n",
              "221511  443027      T       Weighing The Week Ahead  It s All About Jobs   \n",
              "221512  443028      T  Leap Wireless  LEAP    JPM Note and AT T   T M...   \n",
              "\n",
              "       category                                            content  \\\n",
              "221498  opinion  In this article  we introduce a tentative pric...   \n",
              "221499  opinion  U S  stocks closed with modest gains after hov...   \n",
              "221500  opinion  For too long  the rare earth space has operate...   \n",
              "221501  opinion  Here we revisit our price model for AutoNation...   \n",
              "221502  opinion  Gold demand overall is high as Market sentimen...   \n",
              "221503  opinion  This time  we would like to revisit our determ...   \n",
              "221504  opinion  A year ago   using the LSQ technique as applie...   \n",
              "221505  opinion  We have been following the link between the S ...   \n",
              "221506  opinion  A flood of companies scrambled to capitalize o...   \n",
              "221507  opinion  Everyone agrees that the economic recovery has...   \n",
              "221508  opinion  We have been reporting on the trade off betwee...   \n",
              "221509  opinion  It s the largest cell phone provider in the wo...   \n",
              "221510  opinion  Before we dicuss how the mechanism of dividend...   \n",
              "221511  opinion  From start to finish  the coming week will hav...   \n",
              "221512  opinion  Leap Wireless International  Inc   Leap  is a ...   \n",
              "\n",
              "       release_date                provider  \\\n",
              "221498   2012-11-22              Ivan Kitov   \n",
              "221499   2012-12-06         Midnight Trader   \n",
              "221500   2012-12-19         The Gold Report   \n",
              "221501   2012-11-13              Ivan Kitov   \n",
              "221502   2012-11-15  Commodity Trade Mantra   \n",
              "221503   2012-11-18              Ivan Kitov   \n",
              "221504   2012-10-14              Ivan Kitov   \n",
              "221505   2012-10-14              Ivan Kitov   \n",
              "221506   2012-10-31         The Gold Report   \n",
              "221507   2012-09-24             Jeff Miller   \n",
              "221508   2012-10-04              Ivan Kitov   \n",
              "221509   2012-05-30         StreetAuthority   \n",
              "221510   2012-07-16          Portfolio Cafe   \n",
              "221511   2012-09-02             Jeff Miller   \n",
              "221512   2011-12-31          Ophir Gottlieb   \n",
              "\n",
              "                                                      url  article_id  \n",
              "221498  https://www.investing.com/analysis/teco-energy...      144622  \n",
              "221499  https://www.investing.com/analysis/u.s.-stocks...      146509  \n",
              "221500  https://www.investing.com/analysis/the-rare-ea...      148264  \n",
              "221501  https://www.investing.com/analysis/autonation'...      143414  \n",
              "221502  https://www.investing.com/analysis/india’s-gol...      143727  \n",
              "221503  https://www.investing.com/analysis/pitney-bowe...      144038  \n",
              "221504  https://www.investing.com/analysis/spain:-33-u...      139702  \n",
              "221505  https://www.investing.com/analysis/s-p-500-ret...      139747  \n",
              "221506  https://www.investing.com/analysis/a-critical-...      141819  \n",
              "221507  https://www.investing.com/analysis/weighing-th...      137387  \n",
              "221508  https://www.investing.com/analysis/crude-and-s...      138733  \n",
              "221509  https://www.investing.com/analysis/forget-at-t...      124829  \n",
              "221510  https://www.investing.com/analysis/wall-street...      129651  \n",
              "221511  https://www.investing.com/analysis/weighing-th...      134926  \n",
              "221512  https://www.investing.com/analysis/leap-wirele...      110079  "
            ]
          },
          "execution_count": 1,
          "metadata": {},
          "output_type": "execute_result"
        }
      ],
      "source": [
        "import pandas as pd\n",
        "import numpy as np\n",
        "\n",
        "news = pd.read_csv(r\"C:\\Users\\saswa\\Downloads\\archive\\us_equities_news_dataset.csv\")\n",
        "news.tail(15)"
      ]
    },
    {
      "cell_type": "code",
      "execution_count": 2,
      "metadata": {},
      "outputs": [
        {
          "data": {
            "text/html": [
              "<div>\n",
              "<style scoped>\n",
              "    .dataframe tbody tr th:only-of-type {\n",
              "        vertical-align: middle;\n",
              "    }\n",
              "\n",
              "    .dataframe tbody tr th {\n",
              "        vertical-align: top;\n",
              "    }\n",
              "\n",
              "    .dataframe thead th {\n",
              "        text-align: right;\n",
              "    }\n",
              "</style>\n",
              "<table border=\"1\" class=\"dataframe\">\n",
              "  <thead>\n",
              "    <tr style=\"text-align: right;\">\n",
              "      <th></th>\n",
              "      <th>ticker</th>\n",
              "      <th>title</th>\n",
              "      <th>release_date</th>\n",
              "    </tr>\n",
              "  </thead>\n",
              "  <tbody>\n",
              "    <tr>\n",
              "      <th>6235</th>\n",
              "      <td>KYOCY</td>\n",
              "      <td>Nikkei down 1 4 pct on economy fears  autos drop</td>\n",
              "      <td>2008-10-02</td>\n",
              "    </tr>\n",
              "    <tr>\n",
              "      <th>105598</th>\n",
              "      <td>TGT</td>\n",
              "      <td>FOREX Dollar poised for biggest weekly gain in...</td>\n",
              "      <td>2008-10-03</td>\n",
              "    </tr>\n",
              "    <tr>\n",
              "      <th>214228</th>\n",
              "      <td>C</td>\n",
              "      <td>GLOBAL MARKETS Stocks rally on Wells Wachovia ...</td>\n",
              "      <td>2008-10-03</td>\n",
              "    </tr>\n",
              "    <tr>\n",
              "      <th>220286</th>\n",
              "      <td>WFC</td>\n",
              "      <td>GLOBAL MARKETS Stocks hold up after Wells Wach...</td>\n",
              "      <td>2008-10-03</td>\n",
              "    </tr>\n",
              "    <tr>\n",
              "      <th>220287</th>\n",
              "      <td>WFC</td>\n",
              "      <td>GLOBAL MARKETS U S  bailout plan passes  inves...</td>\n",
              "      <td>2008-10-03</td>\n",
              "    </tr>\n",
              "  </tbody>\n",
              "</table>\n",
              "</div>"
            ],
            "text/plain": [
              "       ticker                                              title release_date\n",
              "6235    KYOCY   Nikkei down 1 4 pct on economy fears  autos drop   2008-10-02\n",
              "105598    TGT  FOREX Dollar poised for biggest weekly gain in...   2008-10-03\n",
              "214228      C  GLOBAL MARKETS Stocks rally on Wells Wachovia ...   2008-10-03\n",
              "220286    WFC  GLOBAL MARKETS Stocks hold up after Wells Wach...   2008-10-03\n",
              "220287    WFC  GLOBAL MARKETS U S  bailout plan passes  inves...   2008-10-03"
            ]
          },
          "execution_count": 2,
          "metadata": {},
          "output_type": "execute_result"
        }
      ],
      "source": [
        "important_news= news[['ticker','title','release_date']]\n",
        "important_news = important_news.sort_values(by='release_date', ascending=True)\n",
        "important_news.head()"
      ]
    },
    {
      "cell_type": "code",
      "execution_count": 3,
      "metadata": {
        "id": "6j7EsChHWrHc",
        "outputId": "5ede5d7b-1cce-4d88-8614-c5771f92beb8",
        "scrolled": true
      },
      "outputs": [
        {
          "data": {
            "text/html": [
              "<div>\n",
              "<style scoped>\n",
              "    .dataframe tbody tr th:only-of-type {\n",
              "        vertical-align: middle;\n",
              "    }\n",
              "\n",
              "    .dataframe tbody tr th {\n",
              "        vertical-align: top;\n",
              "    }\n",
              "\n",
              "    .dataframe thead th {\n",
              "        text-align: right;\n",
              "    }\n",
              "</style>\n",
              "<table border=\"1\" class=\"dataframe\">\n",
              "  <thead>\n",
              "    <tr style=\"text-align: right;\">\n",
              "      <th></th>\n",
              "      <th>ticker</th>\n",
              "      <th>title</th>\n",
              "      <th>release_date</th>\n",
              "    </tr>\n",
              "  </thead>\n",
              "  <tbody>\n",
              "    <tr>\n",
              "      <th>6235</th>\n",
              "      <td>KYOCY</td>\n",
              "      <td>Nikkei down 1 4 pct on economy fears  autos drop</td>\n",
              "      <td>2008-10-02</td>\n",
              "    </tr>\n",
              "    <tr>\n",
              "      <th>105598</th>\n",
              "      <td>TGT</td>\n",
              "      <td>FOREX Dollar poised for biggest weekly gain in...</td>\n",
              "      <td>2008-10-03</td>\n",
              "    </tr>\n",
              "    <tr>\n",
              "      <th>214228</th>\n",
              "      <td>C</td>\n",
              "      <td>GLOBAL MARKETS Stocks rally on Wells Wachovia ...</td>\n",
              "      <td>2008-10-03</td>\n",
              "    </tr>\n",
              "    <tr>\n",
              "      <th>220286</th>\n",
              "      <td>WFC</td>\n",
              "      <td>GLOBAL MARKETS Stocks hold up after Wells Wach...</td>\n",
              "      <td>2008-10-03</td>\n",
              "    </tr>\n",
              "    <tr>\n",
              "      <th>220287</th>\n",
              "      <td>WFC</td>\n",
              "      <td>GLOBAL MARKETS U S  bailout plan passes  inves...</td>\n",
              "      <td>2008-10-03</td>\n",
              "    </tr>\n",
              "    <tr>\n",
              "      <th>194004</th>\n",
              "      <td>CVX</td>\n",
              "      <td>GLOBAL MARKETS Stocks worldwide  oil fall as c...</td>\n",
              "      <td>2008-10-06</td>\n",
              "    </tr>\n",
              "    <tr>\n",
              "      <th>214229</th>\n",
              "      <td>C</td>\n",
              "      <td>GLOBAL MARKETS Credit crisis fears spark globa...</td>\n",
              "      <td>2008-10-06</td>\n",
              "    </tr>\n",
              "    <tr>\n",
              "      <th>71063</th>\n",
              "      <td>BAC</td>\n",
              "      <td>GLOBAL MARKETS U S  stocks slide  gold rises o...</td>\n",
              "      <td>2008-10-07</td>\n",
              "    </tr>\n",
              "    <tr>\n",
              "      <th>71062</th>\n",
              "      <td>BAC</td>\n",
              "      <td>GLOBAL MARKETS Equities slide amid investor do...</td>\n",
              "      <td>2008-10-07</td>\n",
              "    </tr>\n",
              "    <tr>\n",
              "      <th>98508</th>\n",
              "      <td>AA</td>\n",
              "      <td>GLOBAL MARKETS Stocks fall  gold rises despite...</td>\n",
              "      <td>2008-10-08</td>\n",
              "    </tr>\n",
              "  </tbody>\n",
              "</table>\n",
              "</div>"
            ],
            "text/plain": [
              "       ticker                                              title release_date\n",
              "6235    KYOCY   Nikkei down 1 4 pct on economy fears  autos drop   2008-10-02\n",
              "105598    TGT  FOREX Dollar poised for biggest weekly gain in...   2008-10-03\n",
              "214228      C  GLOBAL MARKETS Stocks rally on Wells Wachovia ...   2008-10-03\n",
              "220286    WFC  GLOBAL MARKETS Stocks hold up after Wells Wach...   2008-10-03\n",
              "220287    WFC  GLOBAL MARKETS U S  bailout plan passes  inves...   2008-10-03\n",
              "194004    CVX  GLOBAL MARKETS Stocks worldwide  oil fall as c...   2008-10-06\n",
              "214229      C  GLOBAL MARKETS Credit crisis fears spark globa...   2008-10-06\n",
              "71063     BAC  GLOBAL MARKETS U S  stocks slide  gold rises o...   2008-10-07\n",
              "71062     BAC  GLOBAL MARKETS Equities slide amid investor do...   2008-10-07\n",
              "98508      AA  GLOBAL MARKETS Stocks fall  gold rises despite...   2008-10-08"
            ]
          },
          "execution_count": 3,
          "metadata": {},
          "output_type": "execute_result"
        }
      ],
      "source": [
        "important_news.head(10)"
      ]
    },
    {
      "cell_type": "code",
      "execution_count": 4,
      "metadata": {
        "id": "zyZizId3WrHd",
        "outputId": "e27511fc-4c5c-41eb-951b-bb6d304660ec"
      },
      "outputs": [
        {
          "name": "stderr",
          "output_type": "stream",
          "text": [
            "<ipython-input-4-1facc0ead22d>:4: SettingWithCopyWarning: \n",
            "A value is trying to be set on a copy of a slice from a DataFrame.\n",
            "Try using .loc[row_indexer,col_indexer] = value instead\n",
            "\n",
            "See the caveats in the documentation: https://pandas.pydata.org/pandas-docs/stable/user_guide/indexing.html#returning-a-view-versus-a-copy\n",
            "  apple['weekday']= pd.to_datetime(apple['release_date']).dt.day_name(locale='en_US.utf8')\n",
            "<ipython-input-4-1facc0ead22d>:5: SettingWithCopyWarning: \n",
            "A value is trying to be set on a copy of a slice from a DataFrame.\n",
            "Try using .loc[row_indexer,col_indexer] = value instead\n",
            "\n",
            "See the caveats in the documentation: https://pandas.pydata.org/pandas-docs/stable/user_guide/indexing.html#returning-a-view-versus-a-copy\n",
            "  microsoft['weekday']= pd.to_datetime(microsoft['release_date']).dt.day_name(locale='en_US.utf8')\n",
            "C:\\Users\\saswa\\AppData\\Local\\Programs\\Python\\Python39\\lib\\site-packages\\pandas\\core\\indexing.py:1676: SettingWithCopyWarning: \n",
            "A value is trying to be set on a copy of a slice from a DataFrame.\n",
            "Try using .loc[row_indexer,col_indexer] = value instead\n",
            "\n",
            "See the caveats in the documentation: https://pandas.pydata.org/pandas-docs/stable/user_guide/indexing.html#returning-a-view-versus-a-copy\n",
            "  self._setitem_single_column(ilocs[0], value, pi)\n"
          ]
        }
      ],
      "source": [
        "apple = important_news.loc[(important_news[\"ticker\"] ==\"AAPL\")]\n",
        "microsoft = important_news.loc[(important_news[\"ticker\"] ==\"MSFT\")]\n",
        "\n",
        "apple['weekday']= pd.to_datetime(apple['release_date']).dt.day_name(locale='en_US.utf8')\n",
        "microsoft['weekday']= pd.to_datetime(microsoft['release_date']).dt.day_name(locale='en_US.utf8')\n",
        "\n",
        "\n",
        "import datetime\n",
        "\n",
        "DD = datetime.timedelta(days=1)\n",
        "#filter for saturdays date -1 to get the date to friday\n",
        "#Saturdays\n",
        "saturday = apple['weekday'] == \"Saturday\"\n",
        "apple.loc[saturday,\"release_date\"] = pd.to_datetime(apple.loc[saturday,\"release_date\"]).dt.date - DD\n",
        "saturday = microsoft['weekday'] == \"Saturday\"\n",
        "microsoft.loc[saturday,\"release_date\"] = pd.to_datetime(microsoft.loc[saturday,\"release_date\"]).dt.date - DD\n",
        "\n",
        "#Sundays\n",
        "DD = datetime.timedelta(days=2)\n",
        "\n",
        "sunday = apple['weekday'] == \"Sunday\"\n",
        "apple.loc[sunday,\"release_date\"] = pd.to_datetime(apple.loc[sunday,\"release_date\"]).dt.date - DD\n",
        "\n",
        "sunday = microsoft['weekday'] == \"Sunday\"\n",
        "microsoft.loc[sunday,\"release_date\"] = pd.to_datetime(microsoft.loc[sunday,\"release_date\"]).dt.date - DD"
      ]
    },
    {
      "cell_type": "code",
      "execution_count": 5,
      "metadata": {
        "id": "l3J2x-sBWrHe",
        "outputId": "b52c02c1-5902-4287-9c96-04fea3947996"
      },
      "outputs": [
        {
          "data": {
            "text/plain": [
              "(20231, 4)"
            ]
          },
          "execution_count": 5,
          "metadata": {},
          "output_type": "execute_result"
        }
      ],
      "source": [
        "apple.shape"
      ]
    },
    {
      "cell_type": "code",
      "execution_count": 6,
      "metadata": {
        "id": "0dgq87zaWrHe",
        "outputId": "58c5a7b4-4f83-45b7-c787-eb2e68c74873"
      },
      "outputs": [
        {
          "data": {
            "text/plain": [
              "(8110, 4)"
            ]
          },
          "execution_count": 6,
          "metadata": {},
          "output_type": "execute_result"
        }
      ],
      "source": [
        "microsoft.shape"
      ]
    },
    {
      "cell_type": "markdown",
      "metadata": {
        "id": "wr3YYd80WrHf"
      },
      "source": [
        "## Loading stock csvs"
      ]
    },
    {
      "cell_type": "code",
      "execution_count": 7,
      "metadata": {
        "id": "of-LkZ-HWrHf",
        "outputId": "cfd4053f-f99a-4aaa-f614-e9052b27c384"
      },
      "outputs": [
        {
          "data": {
            "text/html": [
              "<div>\n",
              "<style scoped>\n",
              "    .dataframe tbody tr th:only-of-type {\n",
              "        vertical-align: middle;\n",
              "    }\n",
              "\n",
              "    .dataframe tbody tr th {\n",
              "        vertical-align: top;\n",
              "    }\n",
              "\n",
              "    .dataframe thead th {\n",
              "        text-align: right;\n",
              "    }\n",
              "</style>\n",
              "<table border=\"1\" class=\"dataframe\">\n",
              "  <thead>\n",
              "    <tr style=\"text-align: right;\">\n",
              "      <th></th>\n",
              "      <th>date_y</th>\n",
              "      <th>Open</th>\n",
              "    </tr>\n",
              "  </thead>\n",
              "  <tbody>\n",
              "    <tr>\n",
              "      <th>0</th>\n",
              "      <td>2014-09-29</td>\n",
              "      <td>100.589996</td>\n",
              "    </tr>\n",
              "    <tr>\n",
              "      <th>1</th>\n",
              "      <td>2014-10-06</td>\n",
              "      <td>99.949997</td>\n",
              "    </tr>\n",
              "    <tr>\n",
              "      <th>2</th>\n",
              "      <td>2014-10-13</td>\n",
              "      <td>101.330002</td>\n",
              "    </tr>\n",
              "    <tr>\n",
              "      <th>3</th>\n",
              "      <td>2014-10-20</td>\n",
              "      <td>98.320000</td>\n",
              "    </tr>\n",
              "    <tr>\n",
              "      <th>4</th>\n",
              "      <td>2014-10-27</td>\n",
              "      <td>104.849998</td>\n",
              "    </tr>\n",
              "  </tbody>\n",
              "</table>\n",
              "</div>"
            ],
            "text/plain": [
              "       date_y        Open\n",
              "0  2014-09-29  100.589996\n",
              "1  2014-10-06   99.949997\n",
              "2  2014-10-13  101.330002\n",
              "3  2014-10-20   98.320000\n",
              "4  2014-10-27  104.849998"
            ]
          },
          "execution_count": 7,
          "metadata": {},
          "output_type": "execute_result"
        }
      ],
      "source": [
        "apple_csv = pd.read_csv(r\"C:\\Users\\saswa\\Downloads\\archive (1)\\AAPL.csv\")\n",
        "msft_csv = pd.read_csv(r\"C:\\Users\\saswa\\Downloads\\archive (2)\\MSFT.csv\")\n",
        "\n",
        "apple_stocks = apple_csv[['Date','Open']]\n",
        "apple_stocks = apple_stocks.rename(columns={\"Date\": \"date_y\", \"Open\": \"Open\"})\n",
        "microsoft_stocks = msft_csv[['Date','Open']]\n",
        "microsoft_stocks = microsoft_stocks.rename(columns={\"Date\": \"date_y\", \"Open\": \"Open\"})\n",
        "microsoft_stocks.head()\n",
        "apple_stocks.head()"
      ]
    },
    {
      "cell_type": "code",
      "execution_count": 8,
      "metadata": {
        "id": "Pc02YiDHWrHg",
        "outputId": "ff78efa2-5b61-46bf-ff37-1a952eee38ae"
      },
      "outputs": [
        {
          "name": "stdout",
          "output_type": "stream",
          "text": [
            "AAPL\n",
            "184\n",
            "2144\n",
            "177\n",
            "177\n",
            "\n",
            "\n",
            "MSFT\n",
            "8525\n",
            "1719\n",
            "1438\n",
            "1438\n"
          ]
        }
      ],
      "source": [
        "print('AAPL')\n",
        "print(len(set(apple_stocks.date_y)))\n",
        "print(len(set(apple.release_date)))\n",
        "apple = apple[apple.release_date.isin(apple_stocks.date_y)]\n",
        "apple_stocks = apple_stocks[apple_stocks.date_y.isin(apple.release_date)]\n",
        "print(len(set(apple_stocks.date_y)))\n",
        "print(len(set(apple.release_date)))\n",
        "print('\\n')\n",
        "print('MSFT')\n",
        "print(len(set(microsoft_stocks.date_y)))\n",
        "print(len(set(microsoft.release_date)))\n",
        "microsoft = microsoft[microsoft.release_date.isin(microsoft_stocks.date_y)]\n",
        "microsoft_stocks = microsoft_stocks[microsoft_stocks.date_y.isin(microsoft.release_date)]\n",
        "print(len(set(microsoft_stocks.date_y)))\n",
        "print(len(set(microsoft.release_date)))"
      ]
    },
    {
      "cell_type": "code",
      "execution_count": 18,
      "metadata": {
        "id": "VnpeNFVfWrHg",
        "outputId": "d13b8825-516a-44b4-9453-aa0a7e8e8688"
      },
      "outputs": [],
      "source": [
        "# apple_stocks = merged_stocks.loc[merged_stocks['ticker'] == 'AAPL']\n",
        "# print(apple_stocks.shape)\n",
        "# microsoft_stocks = merged_stocks.loc[merged_stocks['ticker'] == 'MSFT']\n",
        "# print(microsoft_stocks.shape)"
      ]
    },
    {
      "cell_type": "code",
      "execution_count": 19,
      "metadata": {
        "id": "R-clZT83WrHh",
        "outputId": "09f7e308-a7af-4100-8ac3-566f1f35b688"
      },
      "outputs": [
        {
          "data": {
            "text/html": [
              "<div>\n",
              "<style scoped>\n",
              "    .dataframe tbody tr th:only-of-type {\n",
              "        vertical-align: middle;\n",
              "    }\n",
              "\n",
              "    .dataframe tbody tr th {\n",
              "        vertical-align: top;\n",
              "    }\n",
              "\n",
              "    .dataframe thead th {\n",
              "        text-align: right;\n",
              "    }\n",
              "</style>\n",
              "<table border=\"1\" class=\"dataframe\">\n",
              "  <thead>\n",
              "    <tr style=\"text-align: right;\">\n",
              "      <th></th>\n",
              "      <th>date_y</th>\n",
              "      <th>Open</th>\n",
              "    </tr>\n",
              "  </thead>\n",
              "  <tbody>\n",
              "    <tr>\n",
              "      <th>8520</th>\n",
              "      <td>2019-12-31</td>\n",
              "      <td>156.770004</td>\n",
              "    </tr>\n",
              "    <tr>\n",
              "      <th>8521</th>\n",
              "      <td>2020-01-02</td>\n",
              "      <td>158.779999</td>\n",
              "    </tr>\n",
              "    <tr>\n",
              "      <th>8522</th>\n",
              "      <td>2020-01-03</td>\n",
              "      <td>158.320007</td>\n",
              "    </tr>\n",
              "    <tr>\n",
              "      <th>8523</th>\n",
              "      <td>2020-01-06</td>\n",
              "      <td>157.080002</td>\n",
              "    </tr>\n",
              "    <tr>\n",
              "      <th>8524</th>\n",
              "      <td>2020-01-07</td>\n",
              "      <td>159.320007</td>\n",
              "    </tr>\n",
              "  </tbody>\n",
              "</table>\n",
              "</div>"
            ],
            "text/plain": [
              "          date_y        Open\n",
              "8520  2019-12-31  156.770004\n",
              "8521  2020-01-02  158.779999\n",
              "8522  2020-01-03  158.320007\n",
              "8523  2020-01-06  157.080002\n",
              "8524  2020-01-07  159.320007"
            ]
          },
          "execution_count": 19,
          "metadata": {},
          "output_type": "execute_result"
        }
      ],
      "source": [
        "microsoft_stocks.tail()"
      ]
    },
    {
      "cell_type": "code",
      "execution_count": 20,
      "metadata": {
        "id": "_KTr0P3mWrHh",
        "outputId": "81da947f-4967-4137-cb3b-fc1e54d23988"
      },
      "outputs": [
        {
          "data": {
            "text/html": [
              "<div>\n",
              "<style scoped>\n",
              "    .dataframe tbody tr th:only-of-type {\n",
              "        vertical-align: middle;\n",
              "    }\n",
              "\n",
              "    .dataframe tbody tr th {\n",
              "        vertical-align: top;\n",
              "    }\n",
              "\n",
              "    .dataframe thead th {\n",
              "        text-align: right;\n",
              "    }\n",
              "</style>\n",
              "<table border=\"1\" class=\"dataframe\">\n",
              "  <thead>\n",
              "    <tr style=\"text-align: right;\">\n",
              "      <th></th>\n",
              "      <th>release_date</th>\n",
              "      <th>headlines</th>\n",
              "    </tr>\n",
              "  </thead>\n",
              "  <tbody>\n",
              "    <tr>\n",
              "      <th>0</th>\n",
              "      <td>2008-10-15</td>\n",
              "      <td>[GLOBAL MARKETS U S  stocks retreat on recession fears  oil falls, GLOBAL MARKETS U S  stocks  oil slide on global recession fears]</td>\n",
              "    </tr>\n",
              "    <tr>\n",
              "      <th>1</th>\n",
              "      <td>2008-12-08</td>\n",
              "      <td>[INTERVIEW UPDATE 2 Nintendo Wii  DS sales strong]</td>\n",
              "    </tr>\n",
              "    <tr>\n",
              "      <th>2</th>\n",
              "      <td>2008-12-24</td>\n",
              "      <td>[Nintendo  Dentsu to distribute video on Wii  Nikkei, UPDATE 1 Nintendo  Dentsu to offer video on Wii]</td>\n",
              "    </tr>\n",
              "    <tr>\n",
              "      <th>3</th>\n",
              "      <td>2009-01-15</td>\n",
              "      <td>[COLUMN What Apple loses without Steve  Eric Auchard]</td>\n",
              "    </tr>\n",
              "    <tr>\n",
              "      <th>4</th>\n",
              "      <td>2009-01-23</td>\n",
              "      <td>[WRAPUP 3 Qimonda  Samsung hit by chip market crash]</td>\n",
              "    </tr>\n",
              "  </tbody>\n",
              "</table>\n",
              "</div>"
            ],
            "text/plain": [
              "  release_date  \\\n",
              "0  2008-10-15    \n",
              "1  2008-12-08    \n",
              "2  2008-12-24    \n",
              "3  2009-01-15    \n",
              "4  2009-01-23    \n",
              "\n",
              "                                                                                                                             headlines  \n",
              "0  [GLOBAL MARKETS U S  stocks retreat on recession fears  oil falls, GLOBAL MARKETS U S  stocks  oil slide on global recession fears]  \n",
              "1  [INTERVIEW UPDATE 2 Nintendo Wii  DS sales strong]                                                                                   \n",
              "2  [Nintendo  Dentsu to distribute video on Wii  Nikkei, UPDATE 1 Nintendo  Dentsu to offer video on Wii]                               \n",
              "3  [COLUMN What Apple loses without Steve  Eric Auchard]                                                                                \n",
              "4  [WRAPUP 3 Qimonda  Samsung hit by chip market crash]                                                                                 "
            ]
          },
          "execution_count": 20,
          "metadata": {},
          "output_type": "execute_result"
        }
      ],
      "source": [
        "news = microsoft.groupby(['release_date'])['title'].apply(list).reset_index(name='headlines')\n",
        "news.head()"
      ]
    },
    {
      "cell_type": "code",
      "execution_count": 21,
      "metadata": {
        "id": "0spglvbBWrHh",
        "outputId": "2aec28b6-a9d1-47c0-db23-46bc1d510fa6"
      },
      "outputs": [
        {
          "name": "stdout",
          "output_type": "stream",
          "text": [
            "          date_y       Open    weekday\n",
            "5699  2008-10-15  23.780001  Wednesday\n",
            "5736  2008-12-08  20.350000  Monday   \n",
            "5748  2008-12-24  19.260000  Wednesday\n",
            "5762  2009-01-15  19.070000  Thursday \n",
            "5767  2009-01-23  16.969999  Friday   \n"
          ]
        },
        {
          "data": {
            "text/html": [
              "<div>\n",
              "<style scoped>\n",
              "    .dataframe tbody tr th:only-of-type {\n",
              "        vertical-align: middle;\n",
              "    }\n",
              "\n",
              "    .dataframe tbody tr th {\n",
              "        vertical-align: top;\n",
              "    }\n",
              "\n",
              "    .dataframe thead th {\n",
              "        text-align: right;\n",
              "    }\n",
              "</style>\n",
              "<table border=\"1\" class=\"dataframe\">\n",
              "  <thead>\n",
              "    <tr style=\"text-align: right;\">\n",
              "      <th></th>\n",
              "      <th>date_y</th>\n",
              "      <th>Open</th>\n",
              "      <th>weekday</th>\n",
              "    </tr>\n",
              "  </thead>\n",
              "  <tbody>\n",
              "    <tr>\n",
              "      <th>5699</th>\n",
              "      <td>2008-10-15</td>\n",
              "      <td>23.780001</td>\n",
              "      <td>Wednesday</td>\n",
              "    </tr>\n",
              "    <tr>\n",
              "      <th>5736</th>\n",
              "      <td>2008-12-08</td>\n",
              "      <td>20.350000</td>\n",
              "      <td>Monday</td>\n",
              "    </tr>\n",
              "    <tr>\n",
              "      <th>5748</th>\n",
              "      <td>2008-12-24</td>\n",
              "      <td>19.260000</td>\n",
              "      <td>Wednesday</td>\n",
              "    </tr>\n",
              "    <tr>\n",
              "      <th>5762</th>\n",
              "      <td>2009-01-15</td>\n",
              "      <td>19.070000</td>\n",
              "      <td>Thursday</td>\n",
              "    </tr>\n",
              "    <tr>\n",
              "      <th>5767</th>\n",
              "      <td>2009-01-23</td>\n",
              "      <td>16.969999</td>\n",
              "      <td>Friday</td>\n",
              "    </tr>\n",
              "  </tbody>\n",
              "</table>\n",
              "</div>"
            ],
            "text/plain": [
              "          date_y       Open    weekday\n",
              "5699  2008-10-15  23.780001  Wednesday\n",
              "5736  2008-12-08  20.350000  Monday   \n",
              "5748  2008-12-24  19.260000  Wednesday\n",
              "5762  2009-01-15  19.070000  Thursday \n",
              "5767  2009-01-23  16.969999  Friday   "
            ]
          },
          "execution_count": 21,
          "metadata": {},
          "output_type": "execute_result"
        }
      ],
      "source": [
        "microsoft_stocks['weekday']= pd.to_datetime(microsoft_stocks['date_y']).dt.day_name(locale='en_US.utf8')\n",
        "print(microsoft_stocks.head())\n",
        "\n",
        "apple_stocks['weekday']= pd.to_datetime(apple_stocks['date_y']).dt.day_name(locale='en_US.utf8')\n",
        "apple_stocks.head()\n",
        "microsoft_stocks.head()"
      ]
    },
    {
      "cell_type": "code",
      "execution_count": 22,
      "metadata": {
        "id": "iEUU-BkTWrHi",
        "outputId": "64cd45b4-8e80-4151-e30d-9287cd14690a"
      },
      "outputs": [
        {
          "name": "stdout",
          "output_type": "stream",
          "text": [
            "       date_y        Open\n",
            "0  2014-09-29  100.589996\n",
            "1  2014-10-06  99.949997 \n",
            "2  2014-10-13  101.330002\n",
            "3  2014-10-20  98.320000 \n",
            "4  2014-10-27  104.849998\n",
            "          date_y       Open\n",
            "5699  2008-10-15  23.780001\n",
            "5736  2008-12-08  20.350000\n",
            "5748  2008-12-24  19.260000\n",
            "5762  2009-01-15  19.070000\n",
            "5767  2009-01-23  16.969999\n"
          ]
        }
      ],
      "source": [
        "apple_prices = apple_stocks[['date_y','Open']]\n",
        "print(apple_prices.head())\n",
        "\n",
        "msft_prices = microsoft_stocks[['date_y','Open']]\n",
        "print(msft_prices.head())"
      ]
    },
    {
      "cell_type": "code",
      "execution_count": 23,
      "metadata": {},
      "outputs": [
        {
          "data": {
            "text/html": [
              "<div>\n",
              "<style scoped>\n",
              "    .dataframe tbody tr th:only-of-type {\n",
              "        vertical-align: middle;\n",
              "    }\n",
              "\n",
              "    .dataframe tbody tr th {\n",
              "        vertical-align: top;\n",
              "    }\n",
              "\n",
              "    .dataframe thead th {\n",
              "        text-align: right;\n",
              "    }\n",
              "</style>\n",
              "<table border=\"1\" class=\"dataframe\">\n",
              "  <thead>\n",
              "    <tr style=\"text-align: right;\">\n",
              "      <th></th>\n",
              "      <th>ticker</th>\n",
              "      <th>title</th>\n",
              "      <th>release_date</th>\n",
              "      <th>sentiment</th>\n",
              "      <th>weekday</th>\n",
              "    </tr>\n",
              "  </thead>\n",
              "  <tbody>\n",
              "    <tr>\n",
              "      <th>62392</th>\n",
              "      <td>AAPL</td>\n",
              "      <td>EU watchdog to give detail on Apple and Fiat tax investigations</td>\n",
              "      <td>2014-09-29</td>\n",
              "      <td>NaN</td>\n",
              "      <td>Monday</td>\n",
              "    </tr>\n",
              "    <tr>\n",
              "      <th>68398</th>\n",
              "      <td>AAPL</td>\n",
              "      <td>When Bad Things Happen To Good Portfolios</td>\n",
              "      <td>2014-10-06</td>\n",
              "      <td>NaN</td>\n",
              "      <td>Monday</td>\n",
              "    </tr>\n",
              "    <tr>\n",
              "      <th>68380</th>\n",
              "      <td>AAPL</td>\n",
              "      <td>Apple At Resistance</td>\n",
              "      <td>2014-10-06</td>\n",
              "      <td>NaN</td>\n",
              "      <td>Monday</td>\n",
              "    </tr>\n",
              "    <tr>\n",
              "      <th>68382</th>\n",
              "      <td>AAPL</td>\n",
              "      <td>Swing Trading Watch List  AAPL  MSFT  SWFT  AAL  UMPQ</td>\n",
              "      <td>2014-10-06</td>\n",
              "      <td>NaN</td>\n",
              "      <td>Monday</td>\n",
              "    </tr>\n",
              "    <tr>\n",
              "      <th>68381</th>\n",
              "      <td>AAPL</td>\n",
              "      <td>T2108 Update  Resistance Caps The Oversold Bounce</td>\n",
              "      <td>2014-10-06</td>\n",
              "      <td>NaN</td>\n",
              "      <td>Monday</td>\n",
              "    </tr>\n",
              "  </tbody>\n",
              "</table>\n",
              "</div>"
            ],
            "text/plain": [
              "      ticker                                                            title  \\\n",
              "62392  AAPL   EU watchdog to give detail on Apple and Fiat tax investigations   \n",
              "68398  AAPL   When Bad Things Happen To Good Portfolios                         \n",
              "68380  AAPL   Apple At Resistance                                               \n",
              "68382  AAPL   Swing Trading Watch List  AAPL  MSFT  SWFT  AAL  UMPQ             \n",
              "68381  AAPL   T2108 Update  Resistance Caps The Oversold Bounce                 \n",
              "\n",
              "      release_date  sentiment weekday  \n",
              "62392  2014-09-29  NaN         Monday  \n",
              "68398  2014-10-06  NaN         Monday  \n",
              "68380  2014-10-06  NaN         Monday  \n",
              "68382  2014-10-06  NaN         Monday  \n",
              "68381  2014-10-06  NaN         Monday  "
            ]
          },
          "execution_count": 23,
          "metadata": {},
          "output_type": "execute_result"
        }
      ],
      "source": [
        "apple.head()"
      ]
    },
    {
      "cell_type": "code",
      "execution_count": 24,
      "metadata": {
        "id": "X1ws5PxeWrHi",
        "outputId": "213b64f3-ee83-4cb8-d1ef-60bdede0732d"
      },
      "outputs": [
        {
          "name": "stdout",
          "output_type": "stream",
          "text": [
            "AAPL\n",
            "(1919, 7)\n",
            "\n",
            "\n",
            "MSFT\n",
            "(7099, 7)\n"
          ]
        }
      ],
      "source": [
        "apple_merged = pd.merge(apple,apple_prices,how='left',left_on='release_date',right_on='date_y')\n",
        "print('AAPL')\n",
        "print(apple_merged.shape)\n",
        "print('\\n')\n",
        "print('MSFT')\n",
        "msft_merged = pd.merge(microsoft,msft_prices,how='left',left_on='release_date',right_on='date_y')\n",
        "print(msft_merged.shape)\n",
        "msft_merged= msft_merged.iloc[len(msft_merged)//3:,:]"
      ]
    },
    {
      "cell_type": "code",
      "execution_count": 25,
      "metadata": {},
      "outputs": [],
      "source": [
        "msft_merged.reset_index(drop= True, inplace=True)"
      ]
    },
    {
      "cell_type": "code",
      "execution_count": 26,
      "metadata": {},
      "outputs": [],
      "source": [
        "apple_merged= apple_merged.iloc[len(apple_merged)//3:,:]\n",
        "apple_merged.reset_index(drop=True, inplace=True)"
      ]
    },
    {
      "cell_type": "code",
      "execution_count": null,
      "metadata": {},
      "outputs": [],
      "source": [
        "import wandb"
      ]
    },
    {
      "cell_type": "code",
      "execution_count": 27,
      "metadata": {},
      "outputs": [
        {
          "name": "stderr",
          "output_type": "stream",
          "text": [
            "Failed to detect the name of this notebook, you can set it manually with the WANDB_NOTEBOOK_NAME environment variable to enable code saving.\n",
            "\u001b[34m\u001b[1mwandb\u001b[0m: Currently logged in as: \u001b[33mnoobsaswata\u001b[0m (use `wandb login --relogin` to force relogin)\n",
            "C:\\Users\\saswa\\AppData\\Roaming\\Python\\Python39\\site-packages\\IPython\\html.py:12: ShimWarning: The `IPython.html` package has been deprecated since IPython 4.0. You should import from `notebook` instead. `IPython.html.widgets` has moved to `ipywidgets`.\n",
            "  warn(\"The `IPython.html` package has been deprecated since IPython 4.0. \"\n"
          ]
        },
        {
          "data": {
            "text/html": [
              "wandb version 0.12.16 is available!  To upgrade, please run:\n",
              " $ pip install wandb --upgrade"
            ],
            "text/plain": [
              "<IPython.core.display.HTML object>"
            ]
          },
          "metadata": {},
          "output_type": "display_data"
        },
        {
          "data": {
            "text/html": [
              "Tracking run with wandb version 0.12.11"
            ],
            "text/plain": [
              "<IPython.core.display.HTML object>"
            ]
          },
          "metadata": {},
          "output_type": "display_data"
        },
        {
          "data": {
            "text/html": [
              "Run data is saved locally in <code>c:\\Users\\saswa\\saswata\\Minor_Project\\wandb\\run-20220504_012810-qpj3pxg3</code>"
            ],
            "text/plain": [
              "<IPython.core.display.HTML object>"
            ]
          },
          "metadata": {},
          "output_type": "display_data"
        },
        {
          "data": {
            "text/html": [
              "Syncing run <strong><a href=\"https://wandb.ai/noobsaswata/FinBERT/runs/qpj3pxg3\" target=\"_blank\">cerulean-frost-15</a></strong> to <a href=\"https://wandb.ai/noobsaswata/FinBERT\" target=\"_blank\">Weights & Biases</a> (<a href=\"https://wandb.me/run\" target=\"_blank\">docs</a>)<br/>"
            ],
            "text/plain": [
              "<IPython.core.display.HTML object>"
            ]
          },
          "metadata": {},
          "output_type": "display_data"
        }
      ],
      "source": [
        "run= wandb.init(project='FinBERT')"
      ]
    },
    {
      "cell_type": "code",
      "execution_count": 28,
      "metadata": {},
      "outputs": [],
      "source": [
        "from transformers import AutoTokenizer, AutoModelForSequenceClassification\n",
        "tok= AutoTokenizer.from_pretrained('ProsusAI/finbert')\n",
        "model= AutoModelForSequenceClassification.from_pretrained('ProsusAI/finbert')"
      ]
    },
    {
      "cell_type": "code",
      "execution_count": 29,
      "metadata": {},
      "outputs": [],
      "source": [
        "def lower_case(lst):\n",
        "    for i in range(len(lst)):\n",
        "        lst[i]= lst[i].lower()\n",
        "    return lst"
      ]
    },
    {
      "cell_type": "code",
      "execution_count": 30,
      "metadata": {},
      "outputs": [],
      "source": [
        "def sent(df):\n",
        "    input= tok(df, padding= True, truncation=True, return_tensors='pt')\n",
        "    output= model(**input)\n",
        "    pred= torch.nn.functional.softmax(output.logits, dim=-1) \n",
        "    return pred"
      ]
    },
    {
      "cell_type": "code",
      "execution_count": 31,
      "metadata": {},
      "outputs": [],
      "source": [
        "msft_merged.set_index('date_y', inplace= True)\n",
        "msft_merged= msft_merged.loc[:,['Open','title']]"
      ]
    },
    {
      "cell_type": "code",
      "execution_count": 32,
      "metadata": {},
      "outputs": [],
      "source": [
        "apple_merged.set_index('date_y', inplace= True)\n",
        "apple_merged= msft_merged.loc[:,['Open','title']]"
      ]
    },
    {
      "cell_type": "code",
      "execution_count": 33,
      "metadata": {},
      "outputs": [],
      "source": [
        "def train_test_split(df):\n",
        "    df_train, df_test= df.iloc[:int(0.6*len(df)),:], df.iloc[int(0.6*len(df)):,:]\n",
        "    return df_train,df_test\n"
      ]
    },
    {
      "cell_type": "code",
      "execution_count": 34,
      "metadata": {},
      "outputs": [
        {
          "data": {
            "text/plain": [
              "str"
            ]
          },
          "execution_count": 34,
          "metadata": {},
          "output_type": "execute_result"
        }
      ],
      "source": [
        "apple_train, apple_test= train_test_split(apple_merged)\n",
        "type(apple_train.iloc[1,1])"
      ]
    },
    {
      "cell_type": "code",
      "execution_count": 35,
      "metadata": {},
      "outputs": [
        {
          "ename": "RuntimeError",
          "evalue": "[enforce fail at ..\\c10\\core\\CPUAllocator.cpp:79] data. DefaultCPUAllocator: not enough memory: you tried to allocate 139542528 bytes.",
          "output_type": "error",
          "traceback": [
            "\u001b[1;31m---------------------------------------------------------------------------\u001b[0m",
            "\u001b[1;31mRuntimeError\u001b[0m                              Traceback (most recent call last)",
            "\u001b[1;32m<ipython-input-35-5f85254ce558>\u001b[0m in \u001b[0;36m<module>\u001b[1;34m\u001b[0m\n\u001b[0;32m      1\u001b[0m \u001b[0minput\u001b[0m\u001b[1;33m=\u001b[0m \u001b[0mtok\u001b[0m\u001b[1;33m(\u001b[0m\u001b[0mlist\u001b[0m\u001b[1;33m(\u001b[0m\u001b[0mapple_train\u001b[0m\u001b[1;33m[\u001b[0m\u001b[1;34m'title'\u001b[0m\u001b[1;33m]\u001b[0m\u001b[1;33m)\u001b[0m\u001b[1;33m,\u001b[0m \u001b[0mpadding\u001b[0m\u001b[1;33m=\u001b[0m \u001b[1;32mTrue\u001b[0m\u001b[1;33m,\u001b[0m \u001b[0mtruncation\u001b[0m\u001b[1;33m=\u001b[0m\u001b[1;32mTrue\u001b[0m\u001b[1;33m,\u001b[0m \u001b[0mreturn_tensors\u001b[0m\u001b[1;33m=\u001b[0m\u001b[1;34m'pt'\u001b[0m\u001b[1;33m)\u001b[0m\u001b[1;33m\u001b[0m\u001b[1;33m\u001b[0m\u001b[0m\n\u001b[1;32m----> 2\u001b[1;33m \u001b[0moutput\u001b[0m\u001b[1;33m=\u001b[0m \u001b[0mmodel\u001b[0m\u001b[1;33m(\u001b[0m\u001b[1;33m**\u001b[0m\u001b[0minput\u001b[0m\u001b[1;33m)\u001b[0m\u001b[1;33m\u001b[0m\u001b[1;33m\u001b[0m\u001b[0m\n\u001b[0m\u001b[0;32m      3\u001b[0m \u001b[0mpred\u001b[0m\u001b[1;33m=\u001b[0m \u001b[0mtorch\u001b[0m\u001b[1;33m.\u001b[0m\u001b[0mnn\u001b[0m\u001b[1;33m.\u001b[0m\u001b[0mfunctional\u001b[0m\u001b[1;33m.\u001b[0m\u001b[0msoftmax\u001b[0m\u001b[1;33m(\u001b[0m\u001b[0moutput\u001b[0m\u001b[1;33m.\u001b[0m\u001b[0mlogits\u001b[0m\u001b[1;33m,\u001b[0m \u001b[0mdim\u001b[0m\u001b[1;33m=\u001b[0m\u001b[1;33m-\u001b[0m\u001b[1;36m1\u001b[0m\u001b[1;33m)\u001b[0m\u001b[1;33m\u001b[0m\u001b[1;33m\u001b[0m\u001b[0m\n\u001b[0;32m      4\u001b[0m \u001b[1;34m'''RuntimeError: [enforce fail at ..\\c10\\core\\CPUAllocator.cpp:79] data. DefaultCPUAllocator: not enough memory: you tried to allocate 767619072 bytes.'''\u001b[0m\u001b[1;33m\u001b[0m\u001b[1;33m\u001b[0m\u001b[0m\n",
            "\u001b[1;32m~\\AppData\\Local\\Programs\\Python\\Python39\\lib\\site-packages\\torch\\nn\\modules\\module.py\u001b[0m in \u001b[0;36m_call_impl\u001b[1;34m(self, *input, **kwargs)\u001b[0m\n\u001b[0;32m   1049\u001b[0m         if not (self._backward_hooks or self._forward_hooks or self._forward_pre_hooks or _global_backward_hooks\n\u001b[0;32m   1050\u001b[0m                 or _global_forward_hooks or _global_forward_pre_hooks):\n\u001b[1;32m-> 1051\u001b[1;33m             \u001b[1;32mreturn\u001b[0m \u001b[0mforward_call\u001b[0m\u001b[1;33m(\u001b[0m\u001b[1;33m*\u001b[0m\u001b[0minput\u001b[0m\u001b[1;33m,\u001b[0m \u001b[1;33m**\u001b[0m\u001b[0mkwargs\u001b[0m\u001b[1;33m)\u001b[0m\u001b[1;33m\u001b[0m\u001b[1;33m\u001b[0m\u001b[0m\n\u001b[0m\u001b[0;32m   1052\u001b[0m         \u001b[1;31m# Do not call functions when jit is used\u001b[0m\u001b[1;33m\u001b[0m\u001b[1;33m\u001b[0m\u001b[1;33m\u001b[0m\u001b[0m\n\u001b[0;32m   1053\u001b[0m         \u001b[0mfull_backward_hooks\u001b[0m\u001b[1;33m,\u001b[0m \u001b[0mnon_full_backward_hooks\u001b[0m \u001b[1;33m=\u001b[0m \u001b[1;33m[\u001b[0m\u001b[1;33m]\u001b[0m\u001b[1;33m,\u001b[0m \u001b[1;33m[\u001b[0m\u001b[1;33m]\u001b[0m\u001b[1;33m\u001b[0m\u001b[1;33m\u001b[0m\u001b[0m\n",
            "\u001b[1;32m~\\AppData\\Local\\Programs\\Python\\Python39\\lib\\site-packages\\transformers\\models\\bert\\modeling_bert.py\u001b[0m in \u001b[0;36mforward\u001b[1;34m(self, input_ids, attention_mask, token_type_ids, position_ids, head_mask, inputs_embeds, labels, output_attentions, output_hidden_states, return_dict)\u001b[0m\n\u001b[0;32m   1543\u001b[0m         \u001b[0mreturn_dict\u001b[0m \u001b[1;33m=\u001b[0m \u001b[0mreturn_dict\u001b[0m \u001b[1;32mif\u001b[0m \u001b[0mreturn_dict\u001b[0m \u001b[1;32mis\u001b[0m \u001b[1;32mnot\u001b[0m \u001b[1;32mNone\u001b[0m \u001b[1;32melse\u001b[0m \u001b[0mself\u001b[0m\u001b[1;33m.\u001b[0m\u001b[0mconfig\u001b[0m\u001b[1;33m.\u001b[0m\u001b[0muse_return_dict\u001b[0m\u001b[1;33m\u001b[0m\u001b[1;33m\u001b[0m\u001b[0m\n\u001b[0;32m   1544\u001b[0m \u001b[1;33m\u001b[0m\u001b[0m\n\u001b[1;32m-> 1545\u001b[1;33m         outputs = self.bert(\n\u001b[0m\u001b[0;32m   1546\u001b[0m             \u001b[0minput_ids\u001b[0m\u001b[1;33m,\u001b[0m\u001b[1;33m\u001b[0m\u001b[1;33m\u001b[0m\u001b[0m\n\u001b[0;32m   1547\u001b[0m             \u001b[0mattention_mask\u001b[0m\u001b[1;33m=\u001b[0m\u001b[0mattention_mask\u001b[0m\u001b[1;33m,\u001b[0m\u001b[1;33m\u001b[0m\u001b[1;33m\u001b[0m\u001b[0m\n",
            "\u001b[1;32m~\\AppData\\Local\\Programs\\Python\\Python39\\lib\\site-packages\\torch\\nn\\modules\\module.py\u001b[0m in \u001b[0;36m_call_impl\u001b[1;34m(self, *input, **kwargs)\u001b[0m\n\u001b[0;32m   1049\u001b[0m         if not (self._backward_hooks or self._forward_hooks or self._forward_pre_hooks or _global_backward_hooks\n\u001b[0;32m   1050\u001b[0m                 or _global_forward_hooks or _global_forward_pre_hooks):\n\u001b[1;32m-> 1051\u001b[1;33m             \u001b[1;32mreturn\u001b[0m \u001b[0mforward_call\u001b[0m\u001b[1;33m(\u001b[0m\u001b[1;33m*\u001b[0m\u001b[0minput\u001b[0m\u001b[1;33m,\u001b[0m \u001b[1;33m**\u001b[0m\u001b[0mkwargs\u001b[0m\u001b[1;33m)\u001b[0m\u001b[1;33m\u001b[0m\u001b[1;33m\u001b[0m\u001b[0m\n\u001b[0m\u001b[0;32m   1052\u001b[0m         \u001b[1;31m# Do not call functions when jit is used\u001b[0m\u001b[1;33m\u001b[0m\u001b[1;33m\u001b[0m\u001b[1;33m\u001b[0m\u001b[0m\n\u001b[0;32m   1053\u001b[0m         \u001b[0mfull_backward_hooks\u001b[0m\u001b[1;33m,\u001b[0m \u001b[0mnon_full_backward_hooks\u001b[0m \u001b[1;33m=\u001b[0m \u001b[1;33m[\u001b[0m\u001b[1;33m]\u001b[0m\u001b[1;33m,\u001b[0m \u001b[1;33m[\u001b[0m\u001b[1;33m]\u001b[0m\u001b[1;33m\u001b[0m\u001b[1;33m\u001b[0m\u001b[0m\n",
            "\u001b[1;32m~\\AppData\\Local\\Programs\\Python\\Python39\\lib\\site-packages\\transformers\\models\\bert\\modeling_bert.py\u001b[0m in \u001b[0;36mforward\u001b[1;34m(self, input_ids, attention_mask, token_type_ids, position_ids, head_mask, inputs_embeds, encoder_hidden_states, encoder_attention_mask, past_key_values, use_cache, output_attentions, output_hidden_states, return_dict)\u001b[0m\n\u001b[0;32m    994\u001b[0m             \u001b[0mpast_key_values_length\u001b[0m\u001b[1;33m=\u001b[0m\u001b[0mpast_key_values_length\u001b[0m\u001b[1;33m,\u001b[0m\u001b[1;33m\u001b[0m\u001b[1;33m\u001b[0m\u001b[0m\n\u001b[0;32m    995\u001b[0m         )\n\u001b[1;32m--> 996\u001b[1;33m         encoder_outputs = self.encoder(\n\u001b[0m\u001b[0;32m    997\u001b[0m             \u001b[0membedding_output\u001b[0m\u001b[1;33m,\u001b[0m\u001b[1;33m\u001b[0m\u001b[1;33m\u001b[0m\u001b[0m\n\u001b[0;32m    998\u001b[0m             \u001b[0mattention_mask\u001b[0m\u001b[1;33m=\u001b[0m\u001b[0mextended_attention_mask\u001b[0m\u001b[1;33m,\u001b[0m\u001b[1;33m\u001b[0m\u001b[1;33m\u001b[0m\u001b[0m\n",
            "\u001b[1;32m~\\AppData\\Local\\Programs\\Python\\Python39\\lib\\site-packages\\torch\\nn\\modules\\module.py\u001b[0m in \u001b[0;36m_call_impl\u001b[1;34m(self, *input, **kwargs)\u001b[0m\n\u001b[0;32m   1049\u001b[0m         if not (self._backward_hooks or self._forward_hooks or self._forward_pre_hooks or _global_backward_hooks\n\u001b[0;32m   1050\u001b[0m                 or _global_forward_hooks or _global_forward_pre_hooks):\n\u001b[1;32m-> 1051\u001b[1;33m             \u001b[1;32mreturn\u001b[0m \u001b[0mforward_call\u001b[0m\u001b[1;33m(\u001b[0m\u001b[1;33m*\u001b[0m\u001b[0minput\u001b[0m\u001b[1;33m,\u001b[0m \u001b[1;33m**\u001b[0m\u001b[0mkwargs\u001b[0m\u001b[1;33m)\u001b[0m\u001b[1;33m\u001b[0m\u001b[1;33m\u001b[0m\u001b[0m\n\u001b[0m\u001b[0;32m   1052\u001b[0m         \u001b[1;31m# Do not call functions when jit is used\u001b[0m\u001b[1;33m\u001b[0m\u001b[1;33m\u001b[0m\u001b[1;33m\u001b[0m\u001b[0m\n\u001b[0;32m   1053\u001b[0m         \u001b[0mfull_backward_hooks\u001b[0m\u001b[1;33m,\u001b[0m \u001b[0mnon_full_backward_hooks\u001b[0m \u001b[1;33m=\u001b[0m \u001b[1;33m[\u001b[0m\u001b[1;33m]\u001b[0m\u001b[1;33m,\u001b[0m \u001b[1;33m[\u001b[0m\u001b[1;33m]\u001b[0m\u001b[1;33m\u001b[0m\u001b[1;33m\u001b[0m\u001b[0m\n",
            "\u001b[1;32m~\\AppData\\Local\\Programs\\Python\\Python39\\lib\\site-packages\\transformers\\models\\bert\\modeling_bert.py\u001b[0m in \u001b[0;36mforward\u001b[1;34m(self, hidden_states, attention_mask, head_mask, encoder_hidden_states, encoder_attention_mask, past_key_values, use_cache, output_attentions, output_hidden_states, return_dict)\u001b[0m\n\u001b[0;32m    583\u001b[0m                 )\n\u001b[0;32m    584\u001b[0m             \u001b[1;32melse\u001b[0m\u001b[1;33m:\u001b[0m\u001b[1;33m\u001b[0m\u001b[1;33m\u001b[0m\u001b[0m\n\u001b[1;32m--> 585\u001b[1;33m                 layer_outputs = layer_module(\n\u001b[0m\u001b[0;32m    586\u001b[0m                     \u001b[0mhidden_states\u001b[0m\u001b[1;33m,\u001b[0m\u001b[1;33m\u001b[0m\u001b[1;33m\u001b[0m\u001b[0m\n\u001b[0;32m    587\u001b[0m                     \u001b[0mattention_mask\u001b[0m\u001b[1;33m,\u001b[0m\u001b[1;33m\u001b[0m\u001b[1;33m\u001b[0m\u001b[0m\n",
            "\u001b[1;32m~\\AppData\\Local\\Programs\\Python\\Python39\\lib\\site-packages\\torch\\nn\\modules\\module.py\u001b[0m in \u001b[0;36m_call_impl\u001b[1;34m(self, *input, **kwargs)\u001b[0m\n\u001b[0;32m   1049\u001b[0m         if not (self._backward_hooks or self._forward_hooks or self._forward_pre_hooks or _global_backward_hooks\n\u001b[0;32m   1050\u001b[0m                 or _global_forward_hooks or _global_forward_pre_hooks):\n\u001b[1;32m-> 1051\u001b[1;33m             \u001b[1;32mreturn\u001b[0m \u001b[0mforward_call\u001b[0m\u001b[1;33m(\u001b[0m\u001b[1;33m*\u001b[0m\u001b[0minput\u001b[0m\u001b[1;33m,\u001b[0m \u001b[1;33m**\u001b[0m\u001b[0mkwargs\u001b[0m\u001b[1;33m)\u001b[0m\u001b[1;33m\u001b[0m\u001b[1;33m\u001b[0m\u001b[0m\n\u001b[0m\u001b[0;32m   1052\u001b[0m         \u001b[1;31m# Do not call functions when jit is used\u001b[0m\u001b[1;33m\u001b[0m\u001b[1;33m\u001b[0m\u001b[1;33m\u001b[0m\u001b[0m\n\u001b[0;32m   1053\u001b[0m         \u001b[0mfull_backward_hooks\u001b[0m\u001b[1;33m,\u001b[0m \u001b[0mnon_full_backward_hooks\u001b[0m \u001b[1;33m=\u001b[0m \u001b[1;33m[\u001b[0m\u001b[1;33m]\u001b[0m\u001b[1;33m,\u001b[0m \u001b[1;33m[\u001b[0m\u001b[1;33m]\u001b[0m\u001b[1;33m\u001b[0m\u001b[1;33m\u001b[0m\u001b[0m\n",
            "\u001b[1;32m~\\AppData\\Local\\Programs\\Python\\Python39\\lib\\site-packages\\transformers\\models\\bert\\modeling_bert.py\u001b[0m in \u001b[0;36mforward\u001b[1;34m(self, hidden_states, attention_mask, head_mask, encoder_hidden_states, encoder_attention_mask, past_key_value, output_attentions)\u001b[0m\n\u001b[0;32m    470\u001b[0m         \u001b[1;31m# decoder uni-directional self-attention cached key/values tuple is at positions 1,2\u001b[0m\u001b[1;33m\u001b[0m\u001b[1;33m\u001b[0m\u001b[1;33m\u001b[0m\u001b[0m\n\u001b[0;32m    471\u001b[0m         \u001b[0mself_attn_past_key_value\u001b[0m \u001b[1;33m=\u001b[0m \u001b[0mpast_key_value\u001b[0m\u001b[1;33m[\u001b[0m\u001b[1;33m:\u001b[0m\u001b[1;36m2\u001b[0m\u001b[1;33m]\u001b[0m \u001b[1;32mif\u001b[0m \u001b[0mpast_key_value\u001b[0m \u001b[1;32mis\u001b[0m \u001b[1;32mnot\u001b[0m \u001b[1;32mNone\u001b[0m \u001b[1;32melse\u001b[0m \u001b[1;32mNone\u001b[0m\u001b[1;33m\u001b[0m\u001b[1;33m\u001b[0m\u001b[0m\n\u001b[1;32m--> 472\u001b[1;33m         self_attention_outputs = self.attention(\n\u001b[0m\u001b[0;32m    473\u001b[0m             \u001b[0mhidden_states\u001b[0m\u001b[1;33m,\u001b[0m\u001b[1;33m\u001b[0m\u001b[1;33m\u001b[0m\u001b[0m\n\u001b[0;32m    474\u001b[0m             \u001b[0mattention_mask\u001b[0m\u001b[1;33m,\u001b[0m\u001b[1;33m\u001b[0m\u001b[1;33m\u001b[0m\u001b[0m\n",
            "\u001b[1;32m~\\AppData\\Local\\Programs\\Python\\Python39\\lib\\site-packages\\torch\\nn\\modules\\module.py\u001b[0m in \u001b[0;36m_call_impl\u001b[1;34m(self, *input, **kwargs)\u001b[0m\n\u001b[0;32m   1049\u001b[0m         if not (self._backward_hooks or self._forward_hooks or self._forward_pre_hooks or _global_backward_hooks\n\u001b[0;32m   1050\u001b[0m                 or _global_forward_hooks or _global_forward_pre_hooks):\n\u001b[1;32m-> 1051\u001b[1;33m             \u001b[1;32mreturn\u001b[0m \u001b[0mforward_call\u001b[0m\u001b[1;33m(\u001b[0m\u001b[1;33m*\u001b[0m\u001b[0minput\u001b[0m\u001b[1;33m,\u001b[0m \u001b[1;33m**\u001b[0m\u001b[0mkwargs\u001b[0m\u001b[1;33m)\u001b[0m\u001b[1;33m\u001b[0m\u001b[1;33m\u001b[0m\u001b[0m\n\u001b[0m\u001b[0;32m   1052\u001b[0m         \u001b[1;31m# Do not call functions when jit is used\u001b[0m\u001b[1;33m\u001b[0m\u001b[1;33m\u001b[0m\u001b[1;33m\u001b[0m\u001b[0m\n\u001b[0;32m   1053\u001b[0m         \u001b[0mfull_backward_hooks\u001b[0m\u001b[1;33m,\u001b[0m \u001b[0mnon_full_backward_hooks\u001b[0m \u001b[1;33m=\u001b[0m \u001b[1;33m[\u001b[0m\u001b[1;33m]\u001b[0m\u001b[1;33m,\u001b[0m \u001b[1;33m[\u001b[0m\u001b[1;33m]\u001b[0m\u001b[1;33m\u001b[0m\u001b[1;33m\u001b[0m\u001b[0m\n",
            "\u001b[1;32m~\\AppData\\Local\\Programs\\Python\\Python39\\lib\\site-packages\\transformers\\models\\bert\\modeling_bert.py\u001b[0m in \u001b[0;36mforward\u001b[1;34m(self, hidden_states, attention_mask, head_mask, encoder_hidden_states, encoder_attention_mask, past_key_value, output_attentions)\u001b[0m\n\u001b[0;32m    400\u001b[0m         \u001b[0moutput_attentions\u001b[0m\u001b[1;33m=\u001b[0m\u001b[1;32mFalse\u001b[0m\u001b[1;33m,\u001b[0m\u001b[1;33m\u001b[0m\u001b[1;33m\u001b[0m\u001b[0m\n\u001b[0;32m    401\u001b[0m     ):\n\u001b[1;32m--> 402\u001b[1;33m         self_outputs = self.self(\n\u001b[0m\u001b[0;32m    403\u001b[0m             \u001b[0mhidden_states\u001b[0m\u001b[1;33m,\u001b[0m\u001b[1;33m\u001b[0m\u001b[1;33m\u001b[0m\u001b[0m\n\u001b[0;32m    404\u001b[0m             \u001b[0mattention_mask\u001b[0m\u001b[1;33m,\u001b[0m\u001b[1;33m\u001b[0m\u001b[1;33m\u001b[0m\u001b[0m\n",
            "\u001b[1;32m~\\AppData\\Local\\Programs\\Python\\Python39\\lib\\site-packages\\torch\\nn\\modules\\module.py\u001b[0m in \u001b[0;36m_call_impl\u001b[1;34m(self, *input, **kwargs)\u001b[0m\n\u001b[0;32m   1049\u001b[0m         if not (self._backward_hooks or self._forward_hooks or self._forward_pre_hooks or _global_backward_hooks\n\u001b[0;32m   1050\u001b[0m                 or _global_forward_hooks or _global_forward_pre_hooks):\n\u001b[1;32m-> 1051\u001b[1;33m             \u001b[1;32mreturn\u001b[0m \u001b[0mforward_call\u001b[0m\u001b[1;33m(\u001b[0m\u001b[1;33m*\u001b[0m\u001b[0minput\u001b[0m\u001b[1;33m,\u001b[0m \u001b[1;33m**\u001b[0m\u001b[0mkwargs\u001b[0m\u001b[1;33m)\u001b[0m\u001b[1;33m\u001b[0m\u001b[1;33m\u001b[0m\u001b[0m\n\u001b[0m\u001b[0;32m   1052\u001b[0m         \u001b[1;31m# Do not call functions when jit is used\u001b[0m\u001b[1;33m\u001b[0m\u001b[1;33m\u001b[0m\u001b[1;33m\u001b[0m\u001b[0m\n\u001b[0;32m   1053\u001b[0m         \u001b[0mfull_backward_hooks\u001b[0m\u001b[1;33m,\u001b[0m \u001b[0mnon_full_backward_hooks\u001b[0m \u001b[1;33m=\u001b[0m \u001b[1;33m[\u001b[0m\u001b[1;33m]\u001b[0m\u001b[1;33m,\u001b[0m \u001b[1;33m[\u001b[0m\u001b[1;33m]\u001b[0m\u001b[1;33m\u001b[0m\u001b[1;33m\u001b[0m\u001b[0m\n",
            "\u001b[1;32m~\\AppData\\Local\\Programs\\Python\\Python39\\lib\\site-packages\\transformers\\models\\bert\\modeling_bert.py\u001b[0m in \u001b[0;36mforward\u001b[1;34m(self, hidden_states, attention_mask, head_mask, encoder_hidden_states, encoder_attention_mask, past_key_value, output_attentions)\u001b[0m\n\u001b[0;32m    322\u001b[0m                 \u001b[0mattention_scores\u001b[0m \u001b[1;33m=\u001b[0m \u001b[0mattention_scores\u001b[0m \u001b[1;33m+\u001b[0m \u001b[0mrelative_position_scores_query\u001b[0m \u001b[1;33m+\u001b[0m \u001b[0mrelative_position_scores_key\u001b[0m\u001b[1;33m\u001b[0m\u001b[1;33m\u001b[0m\u001b[0m\n\u001b[0;32m    323\u001b[0m \u001b[1;33m\u001b[0m\u001b[0m\n\u001b[1;32m--> 324\u001b[1;33m         \u001b[0mattention_scores\u001b[0m \u001b[1;33m=\u001b[0m \u001b[0mattention_scores\u001b[0m \u001b[1;33m/\u001b[0m \u001b[0mmath\u001b[0m\u001b[1;33m.\u001b[0m\u001b[0msqrt\u001b[0m\u001b[1;33m(\u001b[0m\u001b[0mself\u001b[0m\u001b[1;33m.\u001b[0m\u001b[0mattention_head_size\u001b[0m\u001b[1;33m)\u001b[0m\u001b[1;33m\u001b[0m\u001b[1;33m\u001b[0m\u001b[0m\n\u001b[0m\u001b[0;32m    325\u001b[0m         \u001b[1;32mif\u001b[0m \u001b[0mattention_mask\u001b[0m \u001b[1;32mis\u001b[0m \u001b[1;32mnot\u001b[0m \u001b[1;32mNone\u001b[0m\u001b[1;33m:\u001b[0m\u001b[1;33m\u001b[0m\u001b[1;33m\u001b[0m\u001b[0m\n\u001b[0;32m    326\u001b[0m             \u001b[1;31m# Apply the attention mask is (precomputed for all layers in BertModel forward() function)\u001b[0m\u001b[1;33m\u001b[0m\u001b[1;33m\u001b[0m\u001b[1;33m\u001b[0m\u001b[0m\n",
            "\u001b[1;31mRuntimeError\u001b[0m: [enforce fail at ..\\c10\\core\\CPUAllocator.cpp:79] data. DefaultCPUAllocator: not enough memory: you tried to allocate 139542528 bytes."
          ]
        }
      ],
      "source": [
        "input= tok(list(apple_train['title']), padding= True, truncation=True, return_tensors='pt')\n",
        "output= model(**input)\n",
        "pred= torch.nn.functional.softmax(output.logits, dim=-1)\n",
        "'''RuntimeError: [enforce fail at ..\\c10\\core\\CPUAllocator.cpp:79] data. DefaultCPUAllocator: not enough memory: you tried to allocate 767619072 bytes.'''"
      ]
    },
    {
      "cell_type": "code",
      "execution_count": null,
      "metadata": {},
      "outputs": [],
      "source": [
        "from sklearn.preprocessing import MinMaxScaler\n",
        "scaler= MinMaxScaler(feature_range=(-1,1))"
      ]
    },
    {
      "cell_type": "code",
      "execution_count": null,
      "metadata": {},
      "outputs": [],
      "source": [
        "apple_train['Open']= scaler.fit_transform(apple_train['Open'].values.reshape(-1,1))"
      ]
    },
    {
      "cell_type": "code",
      "execution_count": null,
      "metadata": {},
      "outputs": [],
      "source": [
        "input_dim= 3            #Open, Positive, Neutral\n",
        "hidden_dim= 32\n",
        "num_layers= 3         #number of stacks of lstm\n",
        "output_dim= 1\n",
        "epochs= 1000"
      ]
    },
    {
      "cell_type": "code",
      "execution_count": null,
      "metadata": {},
      "outputs": [],
      "source": [
        "class LSTM(nn.Module):\n",
        "    def __init__(self, input_dim, hidden_dim, num_layers, output_dim):\n",
        "        super(LSTM, self).__init__()\n",
        "        self.hidden_dim= hidden_dim\n",
        "        self.num_layers= num_layers\n",
        "        self.lstm= nn.LSTM(input_dim, hidden_dim, num_layers, batch_first= True)\n",
        "        self.fc= nn.Linear(hidden_dim, output_dim)          #fully connected layer after lstm\n",
        "    def forward(self, x):\n",
        "        h0= torch.zeros(self.num_layers, x.size(0), self.hidden_dim).requires_grad_().cuda()               #.requires_grad is for computing gradients\n",
        "        c0= torch.zeros(self.num_layers, x.size(0), self.hidden_dim).requires_grad_().cuda()\n",
        "        out, (hn,cn)= self.lstm(x, (h0.detach(), c0.detach()))\n",
        "        out= self.fc(out[:,-1,:])           #This represents the final state of the lstm as the output.\n",
        "        return out"
      ]
    },
    {
      "cell_type": "code",
      "execution_count": null,
      "metadata": {},
      "outputs": [],
      "source": [
        "model= LSTM(input_dim= input_dim, hidden_dim= hidden_dim, output_dim= output_dim, num_layers= num_layers)\n",
        "criterion= torch.nn.MSELoss(reduction= 'mean')\n",
        "optimizer= torch.optim.Adam(model.parameters(), lr= 0.01)"
      ]
    },
    {
      "cell_type": "code",
      "execution_count": null,
      "metadata": {},
      "outputs": [],
      "source": [
        "model.cuda()"
      ]
    },
    {
      "cell_type": "code",
      "execution_count": null,
      "metadata": {},
      "outputs": [],
      "source": []
    }
  ],
  "metadata": {
    "colab": {
      "name": "sentiment_analysis_proj.ipynb",
      "provenance": []
    },
    "kernelspec": {
      "display_name": "Python 3 (ipykernel)",
      "language": "python",
      "name": "python3"
    },
    "language_info": {
      "codemirror_mode": {
        "name": "ipython",
        "version": 3
      },
      "file_extension": ".py",
      "mimetype": "text/x-python",
      "name": "python",
      "nbconvert_exporter": "python",
      "pygments_lexer": "ipython3",
      "version": "3.9.5"
    }
  },
  "nbformat": 4,
  "nbformat_minor": 0
}
