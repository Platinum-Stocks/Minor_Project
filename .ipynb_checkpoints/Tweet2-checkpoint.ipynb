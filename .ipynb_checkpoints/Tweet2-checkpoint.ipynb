{
 "cells": [
  {
   "cell_type": "code",
   "execution_count": 5,
   "id": "80c0ff50",
   "metadata": {},
   "outputs": [],
   "source": [
    "import pandas as pd\n",
    "import requests\n",
    "import time\n",
    "dr = pd.read_excel('list.xlsx') # can also index sheet by name or fetch all sheets\n",
    "words = dr['Companies'].tolist()\n",
    "bearer_token = \"AAAAAAAAAAAAAAAAAAAAADspYwEAAAAAXTXUxOKW3JveQfKyFiFjK9H6p8w%3DWP6jvOIyOgrPvnivehDI5x5plcGS44OHyt1pK4XJFI9pa49rVn\"\n",
    "headers = {\"authorization\": \"Bearer \"+bearer_token}\n",
    "\n",
    "rsk= pd.DataFrame()\n",
    "\n",
    "def get_data(tweet):\n",
    "    data = {\n",
    "        'id': tweet['id'],\n",
    "        'text': tweet['text']\n",
    "    }\n",
    "    return data\n",
    "di = dict()\n",
    "    \n",
    "def twe(rsk, headers, words):\n",
    "    df = pd.DataFrame()\n",
    "    r=1\n",
    "    for word in words:\n",
    "        l =word.split(' ', 1)[0]\n",
    "        url = f\"https://api.twitter.com/2/tweets/search/recent?query={word}\"\n",
    "        response = requests.get(url, headers=headers).json()\n",
    "        di[r]=response\n",
    "        r=r+1\n",
    "        time.sleep(6)\n",
    "    "
   ]
  },
  {
   "cell_type": "code",
   "execution_count": 6,
   "id": "4df3e03f",
   "metadata": {},
   "outputs": [
    {
     "ename": "KeyboardInterrupt",
     "evalue": "",
     "output_type": "error",
     "traceback": [
      "\u001b[1;31m---------------------------------------------------------------------------\u001b[0m",
      "\u001b[1;31mKeyboardInterrupt\u001b[0m                         Traceback (most recent call last)",
      "\u001b[1;32m~\\AppData\\Local\\Temp/ipykernel_47924/701397807.py\u001b[0m in \u001b[0;36m<module>\u001b[1;34m\u001b[0m\n\u001b[1;32m----> 1\u001b[1;33m \u001b[0mtwe\u001b[0m\u001b[1;33m(\u001b[0m\u001b[0mrsk\u001b[0m\u001b[1;33m,\u001b[0m \u001b[0mheaders\u001b[0m\u001b[1;33m,\u001b[0m \u001b[0mwords\u001b[0m\u001b[1;33m)\u001b[0m\u001b[1;33m\u001b[0m\u001b[1;33m\u001b[0m\u001b[0m\n\u001b[0m",
      "\u001b[1;32m~\\AppData\\Local\\Temp/ipykernel_47924/855701711.py\u001b[0m in \u001b[0;36mtwe\u001b[1;34m(rsk, headers, words)\u001b[0m\n\u001b[0;32m     26\u001b[0m         \u001b[0mdi\u001b[0m\u001b[1;33m[\u001b[0m\u001b[0mr\u001b[0m\u001b[1;33m]\u001b[0m\u001b[1;33m=\u001b[0m\u001b[0mresponse\u001b[0m\u001b[1;33m\u001b[0m\u001b[1;33m\u001b[0m\u001b[0m\n\u001b[0;32m     27\u001b[0m         \u001b[0mr\u001b[0m\u001b[1;33m=\u001b[0m\u001b[0mr\u001b[0m\u001b[1;33m+\u001b[0m\u001b[1;36m1\u001b[0m\u001b[1;33m\u001b[0m\u001b[1;33m\u001b[0m\u001b[0m\n\u001b[1;32m---> 28\u001b[1;33m         \u001b[0mtime\u001b[0m\u001b[1;33m.\u001b[0m\u001b[0msleep\u001b[0m\u001b[1;33m(\u001b[0m\u001b[1;36m6\u001b[0m\u001b[1;33m)\u001b[0m\u001b[1;33m\u001b[0m\u001b[1;33m\u001b[0m\u001b[0m\n\u001b[0m\u001b[0;32m     29\u001b[0m \u001b[1;33m\u001b[0m\u001b[0m\n",
      "\u001b[1;31mKeyboardInterrupt\u001b[0m: "
     ]
    }
   ],
   "source": [
    "twe(rsk, headers, words)"
   ]
  },
  {
   "cell_type": "code",
   "execution_count": 3,
   "id": "8a7d4e68",
   "metadata": {},
   "outputs": [],
   "source": [
    "import pandas as pd\n",
    "import requests\n",
    "import time\n",
    "df= pd.DataFrame()"
   ]
  },
  {
   "cell_type": "code",
   "execution_count": null,
   "id": "7a6c9b10",
   "metadata": {},
   "outputs": [],
   "source": [
    "for k,v in di.items():\n",
    "    for key in v:\n",
    "        if(key=='data'):\n",
    "            l=(v[key])\n",
    "            new = pd.DataFrame.from_dict(l)\n",
    "            df=df.append(new, ignore_index=True)\n",
    "\n",
    "    \n",
    "            "
   ]
  },
  {
   "cell_type": "code",
   "execution_count": null,
   "id": "f3cd21ee",
   "metadata": {},
   "outputs": [],
   "source": [
    "df"
   ]
  },
  {
   "cell_type": "code",
   "execution_count": 54,
   "id": "bce36c9b",
   "metadata": {},
   "outputs": [],
   "source": [
    "df.to_csv('file2.csv')\n"
   ]
  },
  {
   "cell_type": "code",
   "execution_count": null,
   "id": "755049ee",
   "metadata": {},
   "outputs": [],
   "source": [
    "df.drop_duplicates()"
   ]
  },
  {
   "cell_type": "code",
   "execution_count": 7,
   "id": "c1f93753",
   "metadata": {},
   "outputs": [],
   "source": [
    "df  = pd.read_csv(\"file2.csv\")"
   ]
  },
  {
   "cell_type": "code",
   "execution_count": 8,
   "id": "39492ab8",
   "metadata": {},
   "outputs": [
    {
     "data": {
      "text/html": [
       "<div>\n",
       "<style scoped>\n",
       "    .dataframe tbody tr th:only-of-type {\n",
       "        vertical-align: middle;\n",
       "    }\n",
       "\n",
       "    .dataframe tbody tr th {\n",
       "        vertical-align: top;\n",
       "    }\n",
       "\n",
       "    .dataframe thead th {\n",
       "        text-align: right;\n",
       "    }\n",
       "</style>\n",
       "<table border=\"1\" class=\"dataframe\">\n",
       "  <thead>\n",
       "    <tr style=\"text-align: right;\">\n",
       "      <th></th>\n",
       "      <th>Unnamed: 0</th>\n",
       "      <th>id</th>\n",
       "      <th>text</th>\n",
       "    </tr>\n",
       "  </thead>\n",
       "  <tbody>\n",
       "    <tr>\n",
       "      <th>0</th>\n",
       "      <td>0</td>\n",
       "      <td>1492034866820435972</td>\n",
       "      <td>RT @RisingBharat_: #Reliance Industries Ltd (R...</td>\n",
       "    </tr>\n",
       "    <tr>\n",
       "      <th>1</th>\n",
       "      <td>1</td>\n",
       "      <td>1492029443950661633</td>\n",
       "      <td>RT @cwacrpf: We thank Reliance Industries Ltd....</td>\n",
       "    </tr>\n",
       "    <tr>\n",
       "      <th>2</th>\n",
       "      <td>2</td>\n",
       "      <td>1492029019092512772</td>\n",
       "      <td>India: Reliance Industries to acquire stake in...</td>\n",
       "    </tr>\n",
       "    <tr>\n",
       "      <th>3</th>\n",
       "      <td>3</td>\n",
       "      <td>1492028782508527618</td>\n",
       "      <td>RT @RisingBharat_: #Reliance Industries Ltd (R...</td>\n",
       "    </tr>\n",
       "    <tr>\n",
       "      <th>4</th>\n",
       "      <td>4</td>\n",
       "      <td>1492026534672023552</td>\n",
       "      <td>RT @RisingBharat_: #Reliance Industries Ltd (R...</td>\n",
       "    </tr>\n",
       "    <tr>\n",
       "      <th>...</th>\n",
       "      <td>...</td>\n",
       "      <td>...</td>\n",
       "      <td>...</td>\n",
       "    </tr>\n",
       "    <tr>\n",
       "      <th>578</th>\n",
       "      <td>578</td>\n",
       "      <td>1491623120171843586</td>\n",
       "      <td>Key News - DCB Bank Ltd, Jindal Steel and Powe...</td>\n",
       "    </tr>\n",
       "    <tr>\n",
       "      <th>579</th>\n",
       "      <td>579</td>\n",
       "      <td>1491470573582831616</td>\n",
       "      <td>Companies which have joined the “Free Kashmir”...</td>\n",
       "    </tr>\n",
       "    <tr>\n",
       "      <th>580</th>\n",
       "      <td>580</td>\n",
       "      <td>1491445605599936513</td>\n",
       "      <td>RT @VoiceOfAxom: Bosch Pharmaceuticals\\nFB Use...</td>\n",
       "    </tr>\n",
       "    <tr>\n",
       "      <th>581</th>\n",
       "      <td>581</td>\n",
       "      <td>1491445199419355141</td>\n",
       "      <td>RT @VoiceOfAxom: Bosch Pharmaceuticals\\nFB Use...</td>\n",
       "    </tr>\n",
       "    <tr>\n",
       "      <th>582</th>\n",
       "      <td>582</td>\n",
       "      <td>1491441566090948611</td>\n",
       "      <td>Suven Pharmaceuticals Ltd\\nJ.Kumar Infraprojec...</td>\n",
       "    </tr>\n",
       "  </tbody>\n",
       "</table>\n",
       "<p>583 rows × 3 columns</p>\n",
       "</div>"
      ],
      "text/plain": [
       "     Unnamed: 0                   id  \\\n",
       "0             0  1492034866820435972   \n",
       "1             1  1492029443950661633   \n",
       "2             2  1492029019092512772   \n",
       "3             3  1492028782508527618   \n",
       "4             4  1492026534672023552   \n",
       "..          ...                  ...   \n",
       "578         578  1491623120171843586   \n",
       "579         579  1491470573582831616   \n",
       "580         580  1491445605599936513   \n",
       "581         581  1491445199419355141   \n",
       "582         582  1491441566090948611   \n",
       "\n",
       "                                                  text  \n",
       "0    RT @RisingBharat_: #Reliance Industries Ltd (R...  \n",
       "1    RT @cwacrpf: We thank Reliance Industries Ltd....  \n",
       "2    India: Reliance Industries to acquire stake in...  \n",
       "3    RT @RisingBharat_: #Reliance Industries Ltd (R...  \n",
       "4    RT @RisingBharat_: #Reliance Industries Ltd (R...  \n",
       "..                                                 ...  \n",
       "578  Key News - DCB Bank Ltd, Jindal Steel and Powe...  \n",
       "579  Companies which have joined the “Free Kashmir”...  \n",
       "580  RT @VoiceOfAxom: Bosch Pharmaceuticals\\nFB Use...  \n",
       "581  RT @VoiceOfAxom: Bosch Pharmaceuticals\\nFB Use...  \n",
       "582  Suven Pharmaceuticals Ltd\\nJ.Kumar Infraprojec...  \n",
       "\n",
       "[583 rows x 3 columns]"
      ]
     },
     "execution_count": 8,
     "metadata": {},
     "output_type": "execute_result"
    }
   ],
   "source": [
    "df"
   ]
  },
  {
   "cell_type": "code",
   "execution_count": null,
   "id": "2905e7c6",
   "metadata": {},
   "outputs": [],
   "source": []
  }
 ],
 "metadata": {
  "kernelspec": {
   "display_name": "Python 3 (ipykernel)",
   "language": "python",
   "name": "python3"
  },
  "language_info": {
   "codemirror_mode": {
    "name": "ipython",
    "version": 3
   },
   "file_extension": ".py",
   "mimetype": "text/x-python",
   "name": "python",
   "nbconvert_exporter": "python",
   "pygments_lexer": "ipython3",
   "version": "3.9.7"
  }
 },
 "nbformat": 4,
 "nbformat_minor": 5
}
