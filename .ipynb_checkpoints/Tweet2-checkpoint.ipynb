{
 "cells": [
  {
   "cell_type": "code",
   "execution_count": 1,
   "id": "80c0ff50",
   "metadata": {},
   "outputs": [],
   "source": [
    "import pandas as pd\n",
    "import requests\n",
    "import time\n",
    "dr = pd.read_excel('list.xlsx') # can also index sheet by name or fetch all sheets\n",
    "words = dr['Companies'].tolist()\n",
    "bearer_token = \"AAAAAAAAAAAAAAAAAAAAADspYwEAAAAAXTXUxOKW3JveQfKyFiFjK9H6p8w%3DWP6jvOIyOgrPvnivehDI5x5plcGS44OHyt1pK4XJFI9pa49rVn\"\n",
    "headers = {\"authorization\": \"Bearer \"+bearer_token}\n",
    "\n",
    "rsk= pd.DataFrame()\n",
    "\n",
    "def get_data(tweet):\n",
    "    data = {\n",
    "        'id': tweet['id'],\n",
    "        'text': tweet['text']\n",
    "    }\n",
    "    return data\n",
    "di = dict()\n",
    "old = dict()    \n",
    "\n",
    "r=1\n",
    "\n",
    "def nex_twe(rsk, headers, word,j,r):\n",
    "    r= r+1\n",
    "    url = f\"https://api.twitter.com/2/tweets/search/recent?query={word}&max_results=100&next_token={j}\"\n",
    "    response = requests.get(url, headers=headers).json()\n",
    "    di[r]=response\n",
    "    r=r+1\n",
    "    time.sleep(6)\n",
    "def nex_nex_twe(rsk, headers, word,j,r):\n",
    "    r=r+1\n",
    "    url = f\"https://api.twitter.com/2/tweets/search/recent?query={word}&max_results=100&since_id={j}\"\n",
    "    response = requests.get(url, headers=headers).json()\n",
    "    di[r]=response\n",
    "    r=r+1\n",
    "    time.sleep(6)\n",
    "        \n",
    "def twe(rsk, headers, words):\n",
    "    df = pd.DataFrame()\n",
    "    \n",
    "    for word in words:\n",
    "        l =word.split(' ', 1)[0]\n",
    "        url = f\"https://api.twitter.com/2/tweets/search/recent?query={word}&max_results=100\"\n",
    "        response = requests.get(url, headers=headers).json()\n",
    "        di[r]=response\n",
    "        time.sleep(6)        \n",
    "        try:\n",
    "            j = response['meta']['oldest_id']\n",
    "            nex_nex_twe(rsk, headers, word,j,r)\n",
    "        except:\n",
    "            j=response['meta']['next_token']\n",
    "            nex_twe(rsk, headers, word,j,r)\n",
    "        print(df.shape)\n",
    "            \n",
    "\n",
    "  \n"
   ]
  },
  {
   "cell_type": "code",
   "execution_count": null,
   "id": "4df3e03f",
   "metadata": {},
   "outputs": [],
   "source": [
    "twe(rsk, headers, words)"
   ]
  },
  {
   "cell_type": "code",
   "execution_count": null,
   "id": "8a7d4e68",
   "metadata": {},
   "outputs": [],
   "source": [
    "import pandas as pd\n",
    "import requests\n",
    "import time\n",
    "df= pd.DataFrame()"
   ]
  },
  {
   "cell_type": "code",
   "execution_count": null,
   "id": "7a6c9b10",
   "metadata": {},
   "outputs": [],
   "source": [
    "for k,v in di.items():\n",
    "    for key in v:\n",
    "        if(key=='data'):\n",
    "            l=(v[key])\n",
    "            new = pd.DataFrame.from_dict(l)\n",
    "            df=df.append(new, ignore_index=True)\n",
    "\n",
    "    \n",
    "            "
   ]
  },
  {
   "cell_type": "code",
   "execution_count": null,
   "id": "f3cd21ee",
   "metadata": {},
   "outputs": [],
   "source": [
    "df"
   ]
  },
  {
   "cell_type": "code",
   "execution_count": null,
   "id": "bce36c9b",
   "metadata": {},
   "outputs": [],
   "source": [
    "df.to_csv('file2.csv')\n"
   ]
  },
  {
   "cell_type": "code",
   "execution_count": null,
   "id": "755049ee",
   "metadata": {},
   "outputs": [],
   "source": [
    "df.drop_duplicates()"
   ]
  },
  {
   "cell_type": "code",
   "execution_count": null,
   "id": "c1f93753",
   "metadata": {},
   "outputs": [],
   "source": [
    "df  = pd.read_csv(\"file2.csv\")"
   ]
  },
  {
   "cell_type": "code",
   "execution_count": null,
   "id": "1d9df650",
   "metadata": {},
   "outputs": [],
   "source": [
    "df_clean = pd.DataFrame()\n",
    "import re\n",
    "for x in df['text']:\n",
    "    y=' '.join(re.sub(\"(@[A-Za-z0-9]+)|([^0-9A-Za-z \\t])|(\\w+:\\/\\/\\S+)\",\" \",x).split())\n",
    "    d = pd.DataFrame([y])\n",
    "    df_clean= df_clean.append(d,ignore_index=True)"
   ]
  },
  {
   "cell_type": "code",
   "execution_count": null,
   "id": "7ea221a6",
   "metadata": {},
   "outputs": [],
   "source": [
    "df_clean"
   ]
  },
  {
   "cell_type": "code",
   "execution_count": null,
   "id": "a1e73891",
   "metadata": {},
   "outputs": [],
   "source": [
    "df_clean.to_csv('file3.csv', index=False)\n"
   ]
  },
  {
   "cell_type": "code",
   "execution_count": null,
   "id": "c81b9252",
   "metadata": {},
   "outputs": [],
   "source": [
    "df_clean.drop_duplicates()"
   ]
  },
  {
   "cell_type": "code",
   "execution_count": null,
   "id": "93719875",
   "metadata": {},
   "outputs": [],
   "source": [
    "df_clean = df_clean.drop_duplicates()\n",
    "df_clean.to_csv('clean_dataset.csv', index=False)\n"
   ]
  },
  {
   "cell_type": "code",
   "execution_count": null,
   "id": "b68467ea",
   "metadata": {},
   "outputs": [],
   "source": [
    "url = f\"https://api.twitter.com/2/tweets/search/recent?query=NSE&max_results=100&since_id=1493548407662669828\"\n",
    "response = requests.get(url, headers=headers).json()"
   ]
  },
  {
   "cell_type": "code",
   "execution_count": null,
   "id": "11205ad0",
   "metadata": {},
   "outputs": [],
   "source": [
    "response"
   ]
  },
  {
   "cell_type": "code",
   "execution_count": null,
   "id": "3f4e6520",
   "metadata": {},
   "outputs": [],
   "source": [
    "response['meta']['oldest_id']"
   ]
  },
  {
   "cell_type": "code",
   "execution_count": null,
   "id": "a46574bd",
   "metadata": {},
   "outputs": [],
   "source": [
    "response"
   ]
  },
  {
   "cell_type": "code",
   "execution_count": null,
   "id": "e8e5c46b",
   "metadata": {},
   "outputs": [],
   "source": []
  }
 ],
 "metadata": {
  "kernelspec": {
   "display_name": "Python 3 (ipykernel)",
   "language": "python",
   "name": "python3"
  },
  "language_info": {
   "codemirror_mode": {
    "name": "ipython",
    "version": 3
   },
   "file_extension": ".py",
   "mimetype": "text/x-python",
   "name": "python",
   "nbconvert_exporter": "python",
   "pygments_lexer": "ipython3",
   "version": "3.9.7"
  }
 },
 "nbformat": 4,
 "nbformat_minor": 5
}
