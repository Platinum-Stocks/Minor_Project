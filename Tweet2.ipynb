{
 "cells": [
  {
   "cell_type": "code",
   "execution_count": 2,
   "id": "8cae321e",
   "metadata": {},
   "outputs": [],
   "source": [
    "dr = pd.read_excel('list.xlsx') # can also index sheet by name or fetch all sheets\n",
    "words = dr['Companies'].tolist()"
   ]
  },
  {
   "cell_type": "code",
   "execution_count": 22,
   "id": "147a0ddf",
   "metadata": {},
   "outputs": [],
   "source": [
    "def get_data(tweet):\n",
    "    data = {\n",
    "        'id': tweet['id'],\n",
    "        'text': tweet['text']\n",
    "    }\n",
    "    return data"
   ]
  },
  {
   "cell_type": "code",
   "execution_count": 20,
   "id": "2165b858",
   "metadata": {},
   "outputs": [
    {
     "name": "stdout",
     "output_type": "stream",
     "text": [
      "[{'id': '1491796839015739401', 'text': 'RT @RisingBharat_: #Reliance Industries Ltd (RIL) to invest ₹6 trillion ($80 billion) in Gujarat over 10 to 15 years for clean energy busin…'}, {'id': '1491789413994885121', 'text': 'RT @RisingBharat_: #Reliance Industries Ltd (RIL) to invest ₹6 trillion ($80 billion) in Gujarat over 10 to 15 years for clean energy busin…'}, {'id': '1491783186388754433', 'text': 'RT @RisingBharat_: #Reliance Industries Ltd (RIL) to invest ₹6 trillion ($80 billion) in Gujarat over 10 to 15 years for clean energy busin…'}, {'id': '1491780762760519680', 'text': 'RT @RisingBharat_: #Reliance Industries Ltd (RIL) to invest ₹6 trillion ($80 billion) in Gujarat over 10 to 15 years for clean energy busin…'}, {'id': '1491776592594423816', 'text': 'RT @RisingBharat_: #Reliance Industries Ltd (RIL) to invest ₹6 trillion ($80 billion) in Gujarat over 10 to 15 years for clean energy busin…'}, {'id': '1491776052514877441', 'text': 'RT @RisingBharat_: #Reliance Industries Ltd (RIL) to invest ₹6 trillion ($80 billion) in Gujarat over 10 to 15 years for clean energy busin…'}, {'id': '1491775746007658496', 'text': 'RT @RisingBharat_: #Reliance Industries Ltd (RIL) to invest ₹6 trillion ($80 billion) in Gujarat over 10 to 15 years for clean energy busin…'}, {'id': '1491775057462378502', 'text': 'RT @RisingBharat_: #Reliance Industries Ltd (RIL) to invest ₹6 trillion ($80 billion) in Gujarat over 10 to 15 years for clean energy busin…'}, {'id': '1491774899601379328', 'text': 'RT @RisingBharat_: #Reliance Industries Ltd (RIL) to invest ₹6 trillion ($80 billion) in Gujarat over 10 to 15 years for clean energy busin…'}, {'id': '1491774774996992005', 'text': 'RT @RisingBharat_: #Reliance Industries Ltd (RIL) to invest ₹6 trillion ($80 billion) in Gujarat over 10 to 15 years for clean energy busin…'}]\n",
      "[{'id': '1489453209186111490', 'text': 'Key News - Titan Company Ltd, Tata Power Ltd, DLF, Tata Consultancy Services Ltd, Cadila Healthcare By ARETE Securities\\n\\nhttps://t.co/hjR1XD1cPt\\n\\n#StockMarket #ARETESecurities #TitanCompany #TataPower #DLF #TataConsultancyServices #CadilaHealthcare #Investmentguruindia https://t.co/INLo0RewVc'}]\n",
      "[{'id': '1491772557145489409', 'text': '@HDFCBank_Cares Stupid pathetic joint hand looting service from @HDFC_Bank &amp; @Niva_Bupa . Please have a look at the attached email screenshot my reply on 09Feb2022. Attached Insurance Policy screenshot clearly mention HDFC Bank Ltd name which is valid until 17Sept2022. Please refund or approve. https://t.co/2i2a8JEg9w'}, {'id': '1491720368188715008', 'text': 'RT @KIIT_TBI: Congratulations to our two women led portfolio startups on receiving the @HDFC_Bank SmartUp CSR Grant!\\n\\nManikstu Agro Pvt Ltd…'}, {'id': '1491697412712591363', 'text': 'Most active stocks\\nAWL , HDFC LTD ,Adani Power, Tata Power, Reliance, Tata Steel , HDFC Bank, Axis Bank, ICICI Bank, SBI, SAIL , Bajaj finance, Tata motors, Jindalstel, BSE , AUROPHARMA etc.'}, {'id': '1491624332833230848', 'text': 'RT @KIIT_TBI: Congratulations to our two women led portfolio startups on receiving the @HDFC_Bank SmartUp CSR Grant!\\n\\nManikstu Agro Pvt Ltd…'}, {'id': '1491600545916002304', 'text': 'RT @KIIT_TBI: Congratulations to our two women led portfolio startups on receiving the @HDFC_Bank SmartUp CSR Grant!\\n\\nManikstu Agro Pvt Ltd…'}, {'id': '1491567085075447814', 'text': '@ConneqtBusiness You still took a few days time, but enough to give me the money to come to justice.See also sending incentive amount and executive data sent to you by our client(HDFC BANK LTD.). https://t.co/iPbWLmqrMg'}, {'id': '1491538212245942283', 'text': 'Stocks sold in past (at + and -) over 2 years\\nAxis bank ++++\\nBEL +++\\nTV 18 broadcast +\\nVodafone --\\nGMM pfaudler +\\nICICI bank +\\nGAIL +++\\nTata power -\\nTata Cons prdts ++\\nUltratech +++\\nBharti airtel +\\nHDFC ltd +\\nHDFC life -\\nMaruti +++\\nSubros +++\\nDevyani +++\\nVijaya Diag +'}, {'id': '1491440614797635584', 'text': 'Dear hdfc Bank Ltd. \\nPlease settle my pending amount \\nAs soon as possible. \\nMy payment pending 13 Jan still now my amount is pending please sanction that amount  . https://t.co/PM6qvu1mXQ'}, {'id': '1491418969995354113', 'text': 'RT @KIIT_TBI: Congratulations to our two women led portfolio startups on receiving the @HDFC_Bank SmartUp CSR Grant!\\n\\nManikstu Agro Pvt Ltd…'}, {'id': '1491410642590265346', 'text': 'RT @KIIT_TBI: Congratulations to our two women led portfolio startups on receiving the @HDFC_Bank SmartUp CSR Grant!\\n\\nManikstu Agro Pvt Ltd…'}]\n",
      "[{'id': '1491780144901795840', 'text': 'RT @AMISHPA99598328: Godrej Consumer Products Ltd, Gujarat Gas Ltd, KEC International Ltd, Castrol India Ltd,\\nhttps://t.co/JLwxgeRSlk\\n#nift…'}, {'id': '1491769387371872256', 'text': 'Godrej Consumer Products Ltd, Gujarat Gas Ltd, KEC International Ltd, Castrol India Ltd,\\nhttps://t.co/VQEmSwyEVJ\\n#nifty50 #sharemarket #angelbroking #angelbroking  #pharma #Markets #TCSbuyback #tcs4 #TCSQ3Results #Infosys #InfosysQ3 #Wipro #Budget2022'}, {'id': '1491769339082862594', 'text': 'Godrej Consumer Products Ltd, Gujarat Gas Ltd, KEC International Ltd, Castrol India Ltd,\\nhttps://t.co/FsuR5vqawe\\n#nifty50 #sharemarket #angelbroking #angelbroking  #pharma #Markets #TCSbuyback #tcs4 #TCSQ3Results #Infosys #InfosysQ3 #Wipro #Budget2022'}, {'id': '1491769247659589632', 'text': 'Godrej Consumer Products Ltd, Gujarat Gas Ltd, KEC International Ltd, Castrol India Ltd,\\nhttps://t.co/JLwxgeRSlk\\n#nifty50 #sharemarket #angelbroking #angelbroking  #pharma #Markets #TCSbuyback #tcs4 #TCSQ3Results #Infosys #InfosysQ3 #Wipro #Budget2022'}, {'id': '1491769192172777476', 'text': 'Godrej Consumer Products Ltd, Gujarat Gas Ltd, KEC International Ltd, Castrol India Ltd,\\nhttps://t.co/VQEmSwPHXJ\\n#nifty50 #sharemarket #angelbroking #angelbroking  #pharma #Markets #TCSbuyback #tcs4 #TCSQ3Results #Infosys #InfosysQ3 #Wipro #Budget2022'}, {'id': '1491769121108742146', 'text': 'Godrej Consumer Products Ltd, Gujarat Gas Ltd, KEC International Ltd, Castrol India Ltd,\\nhttps://t.co/FsuR5v81i6\\n#nifty50 #sharemarket #angelbroking #angelbroking  #pharma #Markets #TCSbuyback #tcs4 #TCSQ3Results #Infosys #InfosysQ3 #Wipro #Budget2022'}, {'id': '1491755984301158401', 'text': \"RT @Trendlyne: Forecaster is now live on Trendlyne's website and apps! This has India's most detailed analyst estimates - share price targe…\"}, {'id': '1491692294008889344', 'text': 'Built a strong foundation for Data Science through this course – Ankit Kumar Agarwal, PGP DSBA\\n\\nHello, My name is Ankit Kumar Agarwal, and I am currently working with Infosys Ltd as Principal Consultant and settled in Bangalore with my wife Prity and a 6-year-old son Atharva…'}, {'id': '1491676164712443905', 'text': 'RT @RamWealth: #q2results2021 Infosys Ltd. 2nd quarter results. https://t.co/gaT6W5MPgs'}, {'id': '1491659208122839041', 'text': '#Infosys Ltd.   #businessupdate \\n\\nInfosys Collaborates with Qualtrics to Help Enterprises Deliver Personalized Experiences.\\n\\nSolutions from Infosys Cobalt Cloud offerings to improve customer, employee and supplier experiences.'}]\n",
      "[{'id': '1491787160160473089', 'text': '23. BEST TIME TO BUY STOCK!\\nHindustan Unilever Ltd.(HUL)\\n#unilever #hindustanunilever #HUL #myfebruarystock #investingtips https://t.co/jBLv5JLLpm'}, {'id': '1491706208763654148', 'text': \"Mr. Mohan Tripathi\\nSr. FSCE., Hindustan Unilever Ltd.\\nWe thank him for evaluating our product and offering his opinion.  \\nShop Now: https://t.co/QfxrvQJjrb\\nIf you are a first-time user use code 'FIRSTUSE' to get a discount on your purchase. https://t.co/vjWl4x6o6R\"}, {'id': '1491645777437130752', 'text': 'RT @IndiaStory91: In the early 1990s, multinational companies invested in FMCG and automobiles. Hindustan Unilever Ltd (HUL) and Maruti Suz…'}, {'id': '1491645158429200385', 'text': 'RT @IndiaStory91: In the early 1990s, multinational companies invested in FMCG and automobiles. Hindustan Unilever Ltd (HUL) and Maruti Suz…'}, {'id': '1491463513822302208', 'text': '@TickertapeIN Hindustan Unilever Ltd'}, {'id': '1491236310014898177', 'text': 'RT @IndiaStory91: In the early 1990s, multinational companies invested in FMCG and automobiles. Hindustan Unilever Ltd (HUL) and Maruti Suz…'}, {'id': '1491123121948327937', 'text': 'RT @IndiaStory91: In the early 1990s, multinational companies invested in FMCG and automobiles. Hindustan Unilever Ltd (HUL) and Maruti Suz…'}, {'id': '1491116463046148096', 'text': 'RT @IndiaStory91: In the early 1990s, multinational companies invested in FMCG and automobiles. Hindustan Unilever Ltd (HUL) and Maruti Suz…'}, {'id': '1491094690103689217', 'text': '9 February 2022 Ideas 》 Buy Nifty 50  ☆Target 17480》 Buy Bank Nifty ☆Target - 38550 😁😎\\n\\nBuy Maruti Suzuki India Ltd  at 8599\\n Target 8900 \\nStoploss 8540\\n\\nBuy Hindustan Unilever Ltd  at 2264\\n Target 2330 \\nStoploss 2250'}, {'id': '1491091404361469955', 'text': 'Buy Hindustan Unilever Ltd   -- Target 2330 😎 ||  9 February  2022 Share... https://t.co/jYZfjCibYR via @YouTube'}]\n"
     ]
    },
    {
     "name": "stdout",
     "output_type": "stream",
     "text": [
      "[{'id': '1491761380546039809', 'text': 'RT @RazaMashooq: Maine Saudi say India pass Se Lagaya 1 December ko account number Galat Hone say Abhi tak Paisa nahin mila aur bank Ne Bap…'}, {'id': '1491697412712591363', 'text': 'Most active stocks\\nAWL , HDFC LTD ,Adani Power, Tata Power, Reliance, Tata Steel , HDFC Bank, Axis Bank, ICICI Bank, SBI, SAIL , Bajaj finance, Tata motors, Jindalstel, BSE , AUROPHARMA etc.'}, {'id': '1491691814981623809', 'text': 'Buy DCB Bank, target price Rs 130: ICICI Securities DCB Bank Ltd. key Products/Revenue Segments include Interest &amp; Discount on Advances &amp; Bills, Income From Investment, Interest On Balances with RBI and Other Inter-Bank Funds and Interest for the year ending 31-Mar-2021.'}, {'id': '1491670074763378688', 'text': 'RT @official_dgar: ASSAM RIFLES SIGNS MOU WITH ICICI BANK\\n\\nAssam Rifles, on 04 Feb, signed an MoU with ICICI Bank Ltd on Assam Rifles Centr…'}, {'id': '1491665447988641793', 'text': 'Maine Saudi say India pass Se Lagaya 1 December ko account number Galat Hone say Abhi tak Paisa nahin mila aur bank Ne Bapas be nahin kiya 2 Mahine Ho Gayi. https://t.co/PqH25XjAB7 Ltd https://t.co/y4xXaszJal'}, {'id': '1491645301668466688', 'text': 'RT @official_dgar: ASSAM RIFLES SIGNS MOU WITH ICICI BANK\\n\\nAssam Rifles, on 04 Feb, signed an MoU with ICICI Bank Ltd on Assam Rifles Centr…'}, {'id': '1491623134260502529', 'text': 'RT @official_dgar: ASSAM RIFLES SIGNS MOU WITH ICICI BANK\\n\\nAssam Rifles, on 04 Feb, signed an MoU with ICICI Bank Ltd on Assam Rifles Centr…'}, {'id': '1491538212245942283', 'text': 'Stocks sold in past (at + and -) over 2 years\\nAxis bank ++++\\nBEL +++\\nTV 18 broadcast +\\nVodafone --\\nGMM pfaudler +\\nICICI bank +\\nGAIL +++\\nTata power -\\nTata Cons prdts ++\\nUltratech +++\\nBharti airtel +\\nHDFC ltd +\\nHDFC life -\\nMaruti +++\\nSubros +++\\nDevyani +++\\nVijaya Diag +'}, {'id': '1491430615182614528', 'text': 'RT @official_dgar: ASSAM RIFLES SIGNS MOU WITH ICICI BANK\\n\\nAssam Rifles, on 04 Feb, signed an MoU with ICICI Bank Ltd on Assam Rifles Centr…'}, {'id': '1491369779491266560', 'text': 'Alert  / Form 6-K filed with the SEC  $IBN ICICI BANK LTD  https://t.co/aAMvCC0bzA'}]\n"
     ]
    },
    {
     "ename": "KeyError",
     "evalue": "'data'",
     "output_type": "error",
     "traceback": [
      "\u001b[1;31m---------------------------------------------------------------------------\u001b[0m",
      "\u001b[1;31mKeyError\u001b[0m                                  Traceback (most recent call last)",
      "\u001b[1;32m~\\AppData\\Local\\Temp/ipykernel_14916/2827240252.py\u001b[0m in \u001b[0;36m<module>\u001b[1;34m\u001b[0m\n\u001b[0;32m     16\u001b[0m     \u001b[0mresponse\u001b[0m \u001b[1;33m=\u001b[0m \u001b[0mrequests\u001b[0m\u001b[1;33m.\u001b[0m\u001b[0mget\u001b[0m\u001b[1;33m(\u001b[0m\u001b[0murl\u001b[0m\u001b[1;33m,\u001b[0m \u001b[0mheaders\u001b[0m\u001b[1;33m=\u001b[0m\u001b[0mheaders\u001b[0m\u001b[1;33m)\u001b[0m\u001b[1;33m\u001b[0m\u001b[1;33m\u001b[0m\u001b[0m\n\u001b[0;32m     17\u001b[0m     \u001b[0mr\u001b[0m\u001b[1;33m=\u001b[0m \u001b[0mresponse\u001b[0m\u001b[1;33m.\u001b[0m\u001b[0mjson\u001b[0m\u001b[1;33m(\u001b[0m\u001b[1;33m)\u001b[0m\u001b[1;33m\u001b[0m\u001b[1;33m\u001b[0m\u001b[0m\n\u001b[1;32m---> 18\u001b[1;33m     \u001b[0mk\u001b[0m \u001b[1;33m=\u001b[0m \u001b[0mr\u001b[0m\u001b[1;33m[\u001b[0m\u001b[1;34m'data'\u001b[0m\u001b[1;33m]\u001b[0m\u001b[1;33m\u001b[0m\u001b[1;33m\u001b[0m\u001b[0m\n\u001b[0m\u001b[0;32m     19\u001b[0m     \u001b[0mprint\u001b[0m\u001b[1;33m(\u001b[0m\u001b[0mk\u001b[0m\u001b[1;33m)\u001b[0m\u001b[1;33m\u001b[0m\u001b[1;33m\u001b[0m\u001b[0m\n\u001b[0;32m     20\u001b[0m     \u001b[0mdf\u001b[0m\u001b[1;33m=\u001b[0m \u001b[0mdf\u001b[0m\u001b[1;33m.\u001b[0m\u001b[0mappend\u001b[0m\u001b[1;33m(\u001b[0m\u001b[0mpd\u001b[0m\u001b[1;33m.\u001b[0m\u001b[0mDataFrame\u001b[0m\u001b[1;33m.\u001b[0m\u001b[0mfrom_dict\u001b[0m\u001b[1;33m(\u001b[0m\u001b[0mk\u001b[0m\u001b[1;33m)\u001b[0m\u001b[1;33m,\u001b[0m \u001b[0mignore_index\u001b[0m\u001b[1;33m=\u001b[0m\u001b[1;32mTrue\u001b[0m\u001b[1;33m)\u001b[0m\u001b[1;33m\u001b[0m\u001b[1;33m\u001b[0m\u001b[0m\n",
      "\u001b[1;31mKeyError\u001b[0m: 'data'"
     ]
    }
   ],
   "source": [
    "import pandas as pd\n",
    "import requests\n",
    "bearer_token = \"AAAAAAAAAAAAAAAAAAAAADspYwEAAAAAXTXUxOKW3JveQfKyFiFjK9H6p8w%3DWP6jvOIyOgrPvnivehDI5x5plcGS44OHyt1pK4XJFI9pa49rVn\"\n",
    "headers = {\"Authorization\": \"Bearer \"+bearer_token}\n",
    "rs = pd.DataFrame()\n",
    "\n",
    "\n",
    "df = pd.DataFrame()\n",
    "#for tweet in j.json()['data']:\n",
    "#    row = get_data(tweet)\n",
    " #   df = df.append(row, ignore_index=True)\n",
    "l = list()\n",
    "for word in words:\n",
    "    l =word.split(' ', 1)[0]\n",
    "    url = f\"https://api.twitter.com/2/tweets/search/recent?query={word}\"\n",
    "    response = requests.get(url, headers=headers).json()\n",
    "    r= get_data(response)\n",
    "    df= df.append(pd.DataFrame.from_dict(k), ignore_index=True)\n",
    "\n",
    "    \n",
    "    "
   ]
  },
  {
   "cell_type": "code",
   "execution_count": 21,
   "id": "601fb67d",
   "metadata": {
    "scrolled": true
   },
   "outputs": [
    {
     "data": {
      "text/plain": [
       "{'meta': {'result_count': 0}}"
      ]
     },
     "execution_count": 21,
     "metadata": {},
     "output_type": "execute_result"
    }
   ],
   "source": [
    "type(response)"
   ]
  },
  {
   "cell_type": "code",
   "execution_count": 8,
   "id": "2a5fee83",
   "metadata": {},
   "outputs": [
    {
     "name": "stdout",
     "output_type": "stream",
     "text": [
      "<Response [200]>\n"
     ]
    }
   ],
   "source": [
    "print(response)"
   ]
  },
  {
   "cell_type": "code",
   "execution_count": 12,
   "id": "ed3474e9",
   "metadata": {},
   "outputs": [
    {
     "data": {
      "text/plain": [
       "{'title': 'Unauthorized',\n",
       " 'type': 'about:blank',\n",
       " 'status': 401,\n",
       " 'detail': 'Unauthorized'}"
      ]
     },
     "execution_count": 12,
     "metadata": {},
     "output_type": "execute_result"
    }
   ],
   "source": [
    "response.json()"
   ]
  },
  {
   "cell_type": "code",
   "execution_count": 64,
   "id": "80c0ff50",
   "metadata": {},
   "outputs": [],
   "source": [
    "import pandas as pd\n",
    "import requests\n",
    "import time\n",
    "dr = pd.read_excel('list.xlsx') # can also index sheet by name or fetch all sheets\n",
    "words = dr['Companies'].tolist()\n",
    "bearer_token = \"AAAAAAAAAAAAAAAAAAAAADspYwEAAAAAXTXUxOKW3JveQfKyFiFjK9H6p8w%3DWP6jvOIyOgrPvnivehDI5x5plcGS44OHyt1pK4XJFI9pa49rVn\"\n",
    "headers = {\"Authorization\": \"Bearer \"+bearer_token}\n",
    "\n",
    "rsk= pd.DataFrame()\n",
    "\n",
    "def get_data(tweet):\n",
    "    data = {\n",
    "        'id': tweet['id'],\n",
    "        'text': tweet['text']\n",
    "    }\n",
    "    return data\n",
    "def twe(rsk, headers, words):\n",
    "    df = pd.DataFrame()\n",
    "    for word in words:\n",
    "        l =word.split(' ', 1)[0]\n",
    "        url = f\"https://api.twitter.com/2/tweets/search/recent?query={word}\"\n",
    "        response = requests.get(url, headers=headers)\n",
    "        df = pd.DataFrame()\n",
    "        for tweet in response.json()['data']:\n",
    "            row = get_data(tweet)\n",
    "            df = df.append(row, ignore_index=True)\n",
    "            rsk.append(df, ignore_index=True)\n",
    "        time.sleep(15)\n",
    " \n",
    "\n",
    "\n",
    "    "
   ]
  },
  {
   "cell_type": "code",
   "execution_count": 65,
   "id": "4df3e03f",
   "metadata": {},
   "outputs": [
    {
     "ename": "KeyError",
     "evalue": "'data'",
     "output_type": "error",
     "traceback": [
      "\u001b[1;31m---------------------------------------------------------------------------\u001b[0m",
      "\u001b[1;31mKeyError\u001b[0m                                  Traceback (most recent call last)",
      "\u001b[1;32m~\\AppData\\Local\\Temp/ipykernel_14916/701397807.py\u001b[0m in \u001b[0;36m<module>\u001b[1;34m\u001b[0m\n\u001b[1;32m----> 1\u001b[1;33m \u001b[0mtwe\u001b[0m\u001b[1;33m(\u001b[0m\u001b[0mrsk\u001b[0m\u001b[1;33m,\u001b[0m \u001b[0mheaders\u001b[0m\u001b[1;33m,\u001b[0m \u001b[0mwords\u001b[0m\u001b[1;33m)\u001b[0m\u001b[1;33m\u001b[0m\u001b[1;33m\u001b[0m\u001b[0m\n\u001b[0m",
      "\u001b[1;32m~\\AppData\\Local\\Temp/ipykernel_14916/2772650508.py\u001b[0m in \u001b[0;36mtwe\u001b[1;34m(rsk, headers, words)\u001b[0m\n\u001b[0;32m     22\u001b[0m         \u001b[0mresponse\u001b[0m \u001b[1;33m=\u001b[0m \u001b[0mrequests\u001b[0m\u001b[1;33m.\u001b[0m\u001b[0mget\u001b[0m\u001b[1;33m(\u001b[0m\u001b[0murl\u001b[0m\u001b[1;33m,\u001b[0m \u001b[0mheaders\u001b[0m\u001b[1;33m=\u001b[0m\u001b[0mheaders\u001b[0m\u001b[1;33m)\u001b[0m\u001b[1;33m\u001b[0m\u001b[1;33m\u001b[0m\u001b[0m\n\u001b[0;32m     23\u001b[0m         \u001b[0mdf\u001b[0m \u001b[1;33m=\u001b[0m \u001b[0mpd\u001b[0m\u001b[1;33m.\u001b[0m\u001b[0mDataFrame\u001b[0m\u001b[1;33m(\u001b[0m\u001b[1;33m)\u001b[0m\u001b[1;33m\u001b[0m\u001b[1;33m\u001b[0m\u001b[0m\n\u001b[1;32m---> 24\u001b[1;33m         \u001b[1;32mfor\u001b[0m \u001b[0mtweet\u001b[0m \u001b[1;32min\u001b[0m \u001b[0mresponse\u001b[0m\u001b[1;33m.\u001b[0m\u001b[0mjson\u001b[0m\u001b[1;33m(\u001b[0m\u001b[1;33m)\u001b[0m\u001b[1;33m[\u001b[0m\u001b[1;34m'data'\u001b[0m\u001b[1;33m]\u001b[0m\u001b[1;33m:\u001b[0m\u001b[1;33m\u001b[0m\u001b[1;33m\u001b[0m\u001b[0m\n\u001b[0m\u001b[0;32m     25\u001b[0m             \u001b[0mrow\u001b[0m \u001b[1;33m=\u001b[0m \u001b[0mget_data\u001b[0m\u001b[1;33m(\u001b[0m\u001b[0mtweet\u001b[0m\u001b[1;33m)\u001b[0m\u001b[1;33m\u001b[0m\u001b[1;33m\u001b[0m\u001b[0m\n\u001b[0;32m     26\u001b[0m             \u001b[0mdf\u001b[0m \u001b[1;33m=\u001b[0m \u001b[0mdf\u001b[0m\u001b[1;33m.\u001b[0m\u001b[0mappend\u001b[0m\u001b[1;33m(\u001b[0m\u001b[0mrow\u001b[0m\u001b[1;33m,\u001b[0m \u001b[0mignore_index\u001b[0m\u001b[1;33m=\u001b[0m\u001b[1;32mTrue\u001b[0m\u001b[1;33m)\u001b[0m\u001b[1;33m\u001b[0m\u001b[1;33m\u001b[0m\u001b[0m\n",
      "\u001b[1;31mKeyError\u001b[0m: 'data'"
     ]
    }
   ],
   "source": [
    "twe(rsk, headers, words)"
   ]
  },
  {
   "cell_type": "code",
   "execution_count": 52,
   "id": "db4dd480",
   "metadata": {},
   "outputs": [
    {
     "data": {
      "text/html": [
       "<div>\n",
       "<style scoped>\n",
       "    .dataframe tbody tr th:only-of-type {\n",
       "        vertical-align: middle;\n",
       "    }\n",
       "\n",
       "    .dataframe tbody tr th {\n",
       "        vertical-align: top;\n",
       "    }\n",
       "\n",
       "    .dataframe thead th {\n",
       "        text-align: right;\n",
       "    }\n",
       "</style>\n",
       "<table border=\"1\" class=\"dataframe\">\n",
       "  <thead>\n",
       "    <tr style=\"text-align: right;\">\n",
       "      <th></th>\n",
       "    </tr>\n",
       "  </thead>\n",
       "  <tbody>\n",
       "  </tbody>\n",
       "</table>\n",
       "</div>"
      ],
      "text/plain": [
       "Empty DataFrame\n",
       "Columns: []\n",
       "Index: []"
      ]
     },
     "execution_count": 52,
     "metadata": {},
     "output_type": "execute_result"
    }
   ],
   "source": [
    "rsk"
   ]
  },
  {
   "cell_type": "code",
   "execution_count": null,
   "id": "7a6c9b10",
   "metadata": {},
   "outputs": [],
   "source": []
  }
 ],
 "metadata": {
  "kernelspec": {
   "display_name": "Python 3 (ipykernel)",
   "language": "python",
   "name": "python3"
  },
  "language_info": {
   "codemirror_mode": {
    "name": "ipython",
    "version": 3
   },
   "file_extension": ".py",
   "mimetype": "text/x-python",
   "name": "python",
   "nbconvert_exporter": "python",
   "pygments_lexer": "ipython3",
   "version": "3.9.7"
  }
 },
 "nbformat": 4,
 "nbformat_minor": 5
}
